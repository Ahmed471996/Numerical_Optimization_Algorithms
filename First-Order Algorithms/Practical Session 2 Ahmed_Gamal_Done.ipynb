{
 "cells": [
  {
   "cell_type": "markdown",
   "metadata": {},
   "source": [
    "## Practical Work 2"
   ]
  },
  {
   "cell_type": "markdown",
   "metadata": {},
   "source": [
    "For this practical work, the student will have to develop a Python program that is able to implement the gradient descent variants (Batch/Mini-Batch/Stochastic) in order to achieve the linear regression of a set of datapoints."
   ]
  },
  {
   "cell_type": "markdown",
   "metadata": {},
   "source": [
    "#### Import numpy, matplotlib.pyplot and make it inline"
   ]
  },
  {
   "cell_type": "code",
   "execution_count": 239,
   "metadata": {},
   "outputs": [],
   "source": [
    "import numpy as np\n",
    "import matplotlib.pyplot as plt"
   ]
  },
  {
   "cell_type": "markdown",
   "metadata": {},
   "source": [
    "To have a dataset or set of data points, the student must generate a pair of arrays <b>X</b> and <b>y</b> with the values in <b>X</b> equally distributed between <b>0</b> and <b>20</b> and the values in <b>y</b> such that: \n",
    "<b>yi = a*xi + b (and a = -2, b = 1)</b>\n"
   ]
  },
  {
   "cell_type": "code",
   "execution_count": 240,
   "metadata": {},
   "outputs": [
    {
     "name": "stdout",
     "output_type": "stream",
     "text": [
      "(50,)\n",
      "[ 0.          0.40816327  0.81632653  1.2244898   1.63265306  2.04081633\n",
      "  2.44897959  2.85714286  3.26530612  3.67346939  4.08163265  4.48979592\n",
      "  4.89795918  5.30612245  5.71428571  6.12244898  6.53061224  6.93877551\n",
      "  7.34693878  7.75510204  8.16326531  8.57142857  8.97959184  9.3877551\n",
      "  9.79591837 10.20408163 10.6122449  11.02040816 11.42857143 11.83673469\n",
      " 12.24489796 12.65306122 13.06122449 13.46938776 13.87755102 14.28571429\n",
      " 14.69387755 15.10204082 15.51020408 15.91836735 16.32653061 16.73469388\n",
      " 17.14285714 17.55102041 17.95918367 18.36734694 18.7755102  19.18367347\n",
      " 19.59183673 20.        ]\n",
      "(50,)\n",
      "[  1.           0.18367347  -0.63265306  -1.44897959  -2.26530612\n",
      "  -3.08163265  -3.89795918  -4.71428571  -5.53061224  -6.34693878\n",
      "  -7.16326531  -7.97959184  -8.79591837  -9.6122449  -10.42857143\n",
      " -11.24489796 -12.06122449 -12.87755102 -13.69387755 -14.51020408\n",
      " -15.32653061 -16.14285714 -16.95918367 -17.7755102  -18.59183673\n",
      " -19.40816327 -20.2244898  -21.04081633 -21.85714286 -22.67346939\n",
      " -23.48979592 -24.30612245 -25.12244898 -25.93877551 -26.75510204\n",
      " -27.57142857 -28.3877551  -29.20408163 -30.02040816 -30.83673469\n",
      " -31.65306122 -32.46938776 -33.28571429 -34.10204082 -34.91836735\n",
      " -35.73469388 -36.55102041 -37.36734694 -38.18367347 -39.        ]\n"
     ]
    }
   ],
   "source": [
    "def obj_func(x):\n",
    "    return  -2*x + 1\n",
    "x = np.linspace(0,20)\n",
    "y = obj_func(x)\n",
    "print(x.shape)\n",
    "print(x)\n",
    "print(y.shape)\n",
    "print(y)"
   ]
  },
  {
   "cell_type": "code",
   "execution_count": 241,
   "metadata": {},
   "outputs": [
    {
     "name": "stdout",
     "output_type": "stream",
     "text": [
      "(50, 1)\n",
      "[[ 0.        ]\n",
      " [ 0.40816327]\n",
      " [ 0.81632653]\n",
      " [ 1.2244898 ]\n",
      " [ 1.63265306]\n",
      " [ 2.04081633]\n",
      " [ 2.44897959]\n",
      " [ 2.85714286]\n",
      " [ 3.26530612]\n",
      " [ 3.67346939]\n",
      " [ 4.08163265]\n",
      " [ 4.48979592]\n",
      " [ 4.89795918]\n",
      " [ 5.30612245]\n",
      " [ 5.71428571]\n",
      " [ 6.12244898]\n",
      " [ 6.53061224]\n",
      " [ 6.93877551]\n",
      " [ 7.34693878]\n",
      " [ 7.75510204]\n",
      " [ 8.16326531]\n",
      " [ 8.57142857]\n",
      " [ 8.97959184]\n",
      " [ 9.3877551 ]\n",
      " [ 9.79591837]\n",
      " [10.20408163]\n",
      " [10.6122449 ]\n",
      " [11.02040816]\n",
      " [11.42857143]\n",
      " [11.83673469]\n",
      " [12.24489796]\n",
      " [12.65306122]\n",
      " [13.06122449]\n",
      " [13.46938776]\n",
      " [13.87755102]\n",
      " [14.28571429]\n",
      " [14.69387755]\n",
      " [15.10204082]\n",
      " [15.51020408]\n",
      " [15.91836735]\n",
      " [16.32653061]\n",
      " [16.73469388]\n",
      " [17.14285714]\n",
      " [17.55102041]\n",
      " [17.95918367]\n",
      " [18.36734694]\n",
      " [18.7755102 ]\n",
      " [19.18367347]\n",
      " [19.59183673]\n",
      " [20.        ]]\n",
      "(50, 1)\n",
      "[[  1.        ]\n",
      " [  0.18367347]\n",
      " [ -0.63265306]\n",
      " [ -1.44897959]\n",
      " [ -2.26530612]\n",
      " [ -3.08163265]\n",
      " [ -3.89795918]\n",
      " [ -4.71428571]\n",
      " [ -5.53061224]\n",
      " [ -6.34693878]\n",
      " [ -7.16326531]\n",
      " [ -7.97959184]\n",
      " [ -8.79591837]\n",
      " [ -9.6122449 ]\n",
      " [-10.42857143]\n",
      " [-11.24489796]\n",
      " [-12.06122449]\n",
      " [-12.87755102]\n",
      " [-13.69387755]\n",
      " [-14.51020408]\n",
      " [-15.32653061]\n",
      " [-16.14285714]\n",
      " [-16.95918367]\n",
      " [-17.7755102 ]\n",
      " [-18.59183673]\n",
      " [-19.40816327]\n",
      " [-20.2244898 ]\n",
      " [-21.04081633]\n",
      " [-21.85714286]\n",
      " [-22.67346939]\n",
      " [-23.48979592]\n",
      " [-24.30612245]\n",
      " [-25.12244898]\n",
      " [-25.93877551]\n",
      " [-26.75510204]\n",
      " [-27.57142857]\n",
      " [-28.3877551 ]\n",
      " [-29.20408163]\n",
      " [-30.02040816]\n",
      " [-30.83673469]\n",
      " [-31.65306122]\n",
      " [-32.46938776]\n",
      " [-33.28571429]\n",
      " [-34.10204082]\n",
      " [-34.91836735]\n",
      " [-35.73469388]\n",
      " [-36.55102041]\n",
      " [-37.36734694]\n",
      " [-38.18367347]\n",
      " [-39.        ]]\n"
     ]
    }
   ],
   "source": [
    "x = x.reshape((50,1))\n",
    "y = y.reshape((50,1))\n",
    "# data = np.concatenate((x,y),axis=1)\n",
    "# data = np.random.shuffle(data)\n",
    "print(x.shape)\n",
    "print(x)\n",
    "print(y.shape)\n",
    "print(y)"
   ]
  },
  {
   "cell_type": "code",
   "execution_count": 242,
   "metadata": {},
   "outputs": [
    {
     "name": "stdout",
     "output_type": "stream",
     "text": [
      "(50, 2)\n",
      "[[ 1.          0.        ]\n",
      " [ 1.          0.40816327]\n",
      " [ 1.          0.81632653]\n",
      " [ 1.          1.2244898 ]\n",
      " [ 1.          1.63265306]\n",
      " [ 1.          2.04081633]\n",
      " [ 1.          2.44897959]\n",
      " [ 1.          2.85714286]\n",
      " [ 1.          3.26530612]\n",
      " [ 1.          3.67346939]\n",
      " [ 1.          4.08163265]\n",
      " [ 1.          4.48979592]\n",
      " [ 1.          4.89795918]\n",
      " [ 1.          5.30612245]\n",
      " [ 1.          5.71428571]\n",
      " [ 1.          6.12244898]\n",
      " [ 1.          6.53061224]\n",
      " [ 1.          6.93877551]\n",
      " [ 1.          7.34693878]\n",
      " [ 1.          7.75510204]\n",
      " [ 1.          8.16326531]\n",
      " [ 1.          8.57142857]\n",
      " [ 1.          8.97959184]\n",
      " [ 1.          9.3877551 ]\n",
      " [ 1.          9.79591837]\n",
      " [ 1.         10.20408163]\n",
      " [ 1.         10.6122449 ]\n",
      " [ 1.         11.02040816]\n",
      " [ 1.         11.42857143]\n",
      " [ 1.         11.83673469]\n",
      " [ 1.         12.24489796]\n",
      " [ 1.         12.65306122]\n",
      " [ 1.         13.06122449]\n",
      " [ 1.         13.46938776]\n",
      " [ 1.         13.87755102]\n",
      " [ 1.         14.28571429]\n",
      " [ 1.         14.69387755]\n",
      " [ 1.         15.10204082]\n",
      " [ 1.         15.51020408]\n",
      " [ 1.         15.91836735]\n",
      " [ 1.         16.32653061]\n",
      " [ 1.         16.73469388]\n",
      " [ 1.         17.14285714]\n",
      " [ 1.         17.55102041]\n",
      " [ 1.         17.95918367]\n",
      " [ 1.         18.36734694]\n",
      " [ 1.         18.7755102 ]\n",
      " [ 1.         19.18367347]\n",
      " [ 1.         19.59183673]\n",
      " [ 1.         20.        ]]\n"
     ]
    }
   ],
   "source": [
    "x = np.concatenate((np.ones((x.shape[0],1)),x),axis=1)\n",
    "print(x.shape)\n",
    "print(x)"
   ]
  },
  {
   "cell_type": "code",
   "execution_count": 243,
   "metadata": {},
   "outputs": [
    {
     "name": "stdout",
     "output_type": "stream",
     "text": [
      "[[0. 0.]]\n",
      "(1, 2)\n"
     ]
    }
   ],
   "source": [
    "#inializing theta\n",
    "theta = np.zeros((1,x.shape[1]))\n",
    "print(theta)\n",
    "print(theta.shape)"
   ]
  },
  {
   "cell_type": "code",
   "execution_count": null,
   "metadata": {},
   "outputs": [],
   "source": []
  },
  {
   "cell_type": "code",
   "execution_count": 244,
   "metadata": {},
   "outputs": [
    {
     "data": {
      "text/plain": [
       "15"
      ]
     },
     "execution_count": 244,
     "metadata": {},
     "output_type": "execute_result"
    }
   ],
   "source": [
    "x[0:15].shape[0]"
   ]
  },
  {
   "cell_type": "markdown",
   "metadata": {},
   "source": [
    "#### Use your code from practical session 1 and create a function to perform GD for single variable linear regression.\n",
    "#### The function should take the following input parameters:\n",
    "##### Input data (X), Target Labels (y), Learning Rate (alpha), Maximum number of iterations\n",
    "#### The function should return the following:\n",
    "##### All Theta_0 and Theta_1 values till converge, and equivellant Losses, all hypothesis output, and optimum values of Theta_0 and Theta_1\n",
    "#### Note: you can choose any suitable stop criteria."
   ]
  },
  {
   "cell_type": "code",
   "execution_count": 245,
   "metadata": {},
   "outputs": [],
   "source": [
    "# cost function\n",
    "def cost(x, y, theta):\n",
    "    # x(13,2) . theta(1,2) = h(13,1)\n",
    "    h_x = x @ theta.T\n",
    "    error = ((h_x - y).T @ (h_x - y))/2*x.shape[0]\n",
    "    return error[0,0]"
   ]
  },
  {
   "cell_type": "code",
   "execution_count": 246,
   "metadata": {},
   "outputs": [],
   "source": [
    "def grad (x, y, theta):\n",
    "    # x(13,2) @ theta(1,2) = h(13,1)\n",
    "    h_x = x @ theta.T\n",
    "    # x(13,2) - h(13,1) = g(13,1)\n",
    "    grad = x.T @ (h_x - y) / x.shape[0]\n",
    "    return grad.T"
   ]
  },
  {
   "cell_type": "markdown",
   "metadata": {},
   "source": [
    "#### Try your function with any input parameterss of your choice."
   ]
  },
  {
   "cell_type": "code",
   "execution_count": 247,
   "metadata": {},
   "outputs": [],
   "source": [
    "def BGD (x, y, theta_min, it, alpha, batch):\n",
    "    step = int(x.shape[0]/batch)\n",
    "    pred = [x @ theta_min.T]\n",
    "    thetas = [theta_min]            # a list of thetas (list of arrays (1,2))\n",
    "    error = [cost(x[0:step], y[0:step], theta_min)]  # a list of output of cost function (list of values)\n",
    "    for i in range(it):\n",
    "        for j in range(0, x.shape[0], step):\n",
    "            theta_min = theta_min - alpha * grad(x[j:j+step], y[j:j+step], theta_min)\n",
    "            error.append(cost(x[j:j+step], y[j:j+step], theta_min))\n",
    "            thetas.append(theta_min)\n",
    "            pred.append(x @ theta_min.T)\n",
    "    return thetas, theta_min, error, pred"
   ]
  },
  {
   "cell_type": "markdown",
   "metadata": {},
   "source": [
    "#### Calculate r2 score"
   ]
  },
  {
   "cell_type": "code",
   "execution_count": 248,
   "metadata": {},
   "outputs": [
    {
     "name": "stdout",
     "output_type": "stream",
     "text": [
      "[[ 0.82161477 -1.99116032]]\n",
      "0.0012951296829855766\n",
      "[[ 0.82161477 -1.99116032]]\n"
     ]
    }
   ],
   "source": [
    "epochs = 100\n",
    "alpha = 0.01\n",
    "batch = 10\n",
    "thetas, theta_min, cost, pred = BGD (x, y, theta, epochs, alpha, batch) \n",
    "print(theta_min)\n",
    "print(cost[-1])\n",
    "print(thetas[-1])"
   ]
  },
  {
   "cell_type": "code",
   "execution_count": 249,
   "metadata": {},
   "outputs": [
    {
     "name": "stdout",
     "output_type": "stream",
     "text": [
      "1001\n",
      "50\n"
     ]
    }
   ],
   "source": [
    "print(len(pred))\n",
    "print(len(pred[-1]))"
   ]
  },
  {
   "cell_type": "code",
   "execution_count": 250,
   "metadata": {},
   "outputs": [
    {
     "data": {
      "text/plain": [
       "[<matplotlib.lines.Line2D at 0x291a0c8ebb0>]"
      ]
     },
     "execution_count": 250,
     "metadata": {},
     "output_type": "execute_result"
    },
    {
     "data": {
      "image/png": "[encoded data removed]",
      "text/plain": [
       "<Figure size 432x288 with 1 Axes>"
      ]
     },
     "metadata": {
      "needs_background": "light"
     },
     "output_type": "display_data"
    }
   ],
   "source": [
    "plt.plot(range(len(cost)),cost)  #range(len(cost)) is the number of iterations "
   ]
  },
  {
   "cell_type": "code",
   "execution_count": 251,
   "metadata": {},
   "outputs": [
    {
     "data": {
      "image/png": "[encoded data removed]",
      "text/plain": [
       "<Figure size 432x288 with 1 Axes>"
      ]
     },
     "metadata": {
      "needs_background": "light"
     },
     "output_type": "display_data"
    }
   ],
   "source": [
    "plt.scatter(x[:,1],y)\n",
    "for i in  pred:\n",
    "    plt.plot(x[:,1],i)"
   ]
  },
  {
   "cell_type": "code",
   "execution_count": 252,
   "metadata": {},
   "outputs": [
    {
     "name": "stdout",
     "output_type": "stream",
     "text": [
      "[[ 8.21614768e-01  1.00000000e+00]\n",
      " [ 8.89627089e-03  1.83673469e-01]\n",
      " [-8.03822226e-01 -6.32653061e-01]\n",
      " [-1.61654072e+00 -1.44897959e+00]\n",
      " [-2.42925922e+00 -2.26530612e+00]\n",
      " [-3.24197772e+00 -3.08163265e+00]\n",
      " [-4.05469621e+00 -3.89795918e+00]\n",
      " [-4.86741471e+00 -4.71428571e+00]\n",
      " [-5.68013321e+00 -5.53061224e+00]\n",
      " [-6.49285170e+00 -6.34693878e+00]\n",
      " [-7.30557020e+00 -7.16326531e+00]\n",
      " [-8.11828870e+00 -7.97959184e+00]\n",
      " [-8.93100719e+00 -8.79591837e+00]\n",
      " [-9.74372569e+00 -9.61224490e+00]\n",
      " [-1.05564442e+01 -1.04285714e+01]\n",
      " [-1.13691627e+01 -1.12448980e+01]\n",
      " [-1.21818812e+01 -1.20612245e+01]\n",
      " [-1.29945997e+01 -1.28775510e+01]\n",
      " [-1.38073182e+01 -1.36938776e+01]\n",
      " [-1.46200367e+01 -1.45102041e+01]\n",
      " [-1.54327552e+01 -1.53265306e+01]\n",
      " [-1.62454737e+01 -1.61428571e+01]\n",
      " [-1.70581922e+01 -1.69591837e+01]\n",
      " [-1.78709107e+01 -1.77755102e+01]\n",
      " [-1.86836292e+01 -1.85918367e+01]\n",
      " [-1.94963477e+01 -1.94081633e+01]\n",
      " [-2.03090661e+01 -2.02244898e+01]\n",
      " [-2.11217846e+01 -2.10408163e+01]\n",
      " [-2.19345031e+01 -2.18571429e+01]\n",
      " [-2.27472216e+01 -2.26734694e+01]\n",
      " [-2.35599401e+01 -2.34897959e+01]\n",
      " [-2.43726586e+01 -2.43061224e+01]\n",
      " [-2.51853771e+01 -2.51224490e+01]\n",
      " [-2.59980956e+01 -2.59387755e+01]\n",
      " [-2.68108141e+01 -2.67551020e+01]\n",
      " [-2.76235326e+01 -2.75714286e+01]\n",
      " [-2.84362511e+01 -2.83877551e+01]\n",
      " [-2.92489696e+01 -2.92040816e+01]\n",
      " [-3.00616881e+01 -3.00204082e+01]\n",
      " [-3.08744066e+01 -3.08367347e+01]\n",
      " [-3.16871251e+01 -3.16530612e+01]\n",
      " [-3.24998436e+01 -3.24693878e+01]\n",
      " [-3.33125621e+01 -3.32857143e+01]\n",
      " [-3.41252806e+01 -3.41020408e+01]\n",
      " [-3.49379991e+01 -3.49183673e+01]\n",
      " [-3.57507176e+01 -3.57346939e+01]\n",
      " [-3.65634361e+01 -3.65510204e+01]\n",
      " [-3.73761546e+01 -3.73673469e+01]\n",
      " [-3.81888731e+01 -3.81836735e+01]\n",
      " [-3.90015916e+01 -3.90000000e+01]]\n"
     ]
    }
   ],
   "source": [
    "f = x @ theta_min.T\n",
    "print(np.concatenate((f,y),axis=1))"
   ]
  },
  {
   "cell_type": "code",
   "execution_count": 253,
   "metadata": {},
   "outputs": [
    {
     "data": {
      "image/png": "[encoded data removed]",
      "text/plain": [
       "<Figure size 432x288 with 1 Axes>"
      ]
     },
     "metadata": {
      "needs_background": "light"
     },
     "output_type": "display_data"
    }
   ],
   "source": [
    "_ = plt.scatter(x[:,1],y)\n",
    "_ = plt.xlabel('x values')\n",
    "_ = plt.ylabel('y values')\n",
    "_ = plt.plot(x[:,1],f)"
   ]
  },
  {
   "cell_type": "code",
   "execution_count": 254,
   "metadata": {},
   "outputs": [
    {
     "data": {
      "text/plain": [
       "Text(0, 0.5, 'Cost Value')"
      ]
     },
     "execution_count": 254,
     "metadata": {},
     "output_type": "execute_result"
    },
    {
     "data": {
      "image/png": "[encoded data removed]",
      "text/plain": [
       "<Figure size 432x288 with 1 Axes>"
      ]
     },
     "metadata": {
      "needs_background": "light"
     },
     "output_type": "display_data"
    }
   ],
   "source": [
    "thetas = np.squeeze(np.array(thetas))\n",
    "fig,ax = plt.subplots()\n",
    "ax.plot(thetas[:,0], cost ,'r')\n",
    "\n",
    "ax.set_xlabel('Theta_0')\n",
    "ax.set_ylabel('Cost Value')"
   ]
  },
  {
   "cell_type": "code",
   "execution_count": 255,
   "metadata": {},
   "outputs": [
    {
     "data": {
      "text/plain": [
       "Text(0, 0.5, 'Cost Value')"
      ]
     },
     "execution_count": 255,
     "metadata": {},
     "output_type": "execute_result"
    },
    {
     "data": {
      "image/png": "[encoded data removed]",
      "text/plain": [
       "<Figure size 432x288 with 1 Axes>"
      ]
     },
     "metadata": {
      "needs_background": "light"
     },
     "output_type": "display_data"
    }
   ],
   "source": [
    "thetas = np.squeeze(np.array(thetas))\n",
    "fig,ax = plt.subplots()\n",
    "ax.plot(thetas[:,1], cost ,'r')\n",
    "\n",
    "ax.set_xlabel('Theta_1')\n",
    "ax.set_ylabel('Cost Value')"
   ]
  },
  {
   "cell_type": "code",
   "execution_count": 256,
   "metadata": {},
   "outputs": [
    {
     "data": {
      "image/png": "[encoded data removed]",
      "text/plain": [
       "<Figure size 432x288 with 1 Axes>"
      ]
     },
     "metadata": {
      "needs_background": "light"
     },
     "output_type": "display_data"
    }
   ],
   "source": [
    "thetas = np.squeeze(np.array(thetas))\n",
    "plt.plot(range(len(cost)),thetas[:,0])\n",
    "_ = plt.xlabel('iterations')\n",
    "_ = plt.ylabel('theta_0')"
   ]
  },
  {
   "cell_type": "code",
   "execution_count": 257,
   "metadata": {},
   "outputs": [
    {
     "data": {
      "image/png": "[encoded data removed]",
      "text/plain": [
       "<Figure size 432x288 with 1 Axes>"
      ]
     },
     "metadata": {
      "needs_background": "light"
     },
     "output_type": "display_data"
    }
   ],
   "source": [
    "thetas = np.squeeze(np.array(thetas))\n",
    "plt.plot(range(len(cost)),thetas[:,1])\n",
    "_ = plt.xlabel('iterations')\n",
    "_ = plt.ylabel('theta_1')"
   ]
  },
  {
   "cell_type": "markdown",
   "metadata": {},
   "source": [
    "#### Plot loss vs. epochs"
   ]
  },
  {
   "cell_type": "code",
   "execution_count": null,
   "metadata": {},
   "outputs": [],
   "source": []
  },
  {
   "cell_type": "code",
   "execution_count": null,
   "metadata": {
    "scrolled": false
   },
   "outputs": [],
   "source": []
  },
  {
   "cell_type": "markdown",
   "metadata": {},
   "source": [
    "#### Plot Theta_0 vs. loss and Theta_1 vs. loss"
   ]
  },
  {
   "cell_type": "code",
   "execution_count": 290,
   "metadata": {},
   "outputs": [
    {
     "name": "stdout",
     "output_type": "stream",
     "text": [
      "(50,)\n",
      "[ 0.          0.40816327  0.81632653  1.2244898   1.63265306  2.04081633\n",
      "  2.44897959  2.85714286  3.26530612  3.67346939  4.08163265  4.48979592\n",
      "  4.89795918  5.30612245  5.71428571  6.12244898  6.53061224  6.93877551\n",
      "  7.34693878  7.75510204  8.16326531  8.57142857  8.97959184  9.3877551\n",
      "  9.79591837 10.20408163 10.6122449  11.02040816 11.42857143 11.83673469\n",
      " 12.24489796 12.65306122 13.06122449 13.46938776 13.87755102 14.28571429\n",
      " 14.69387755 15.10204082 15.51020408 15.91836735 16.32653061 16.73469388\n",
      " 17.14285714 17.55102041 17.95918367 18.36734694 18.7755102  19.18367347\n",
      " 19.59183673 20.        ]\n",
      "(50,)\n",
      "[  1.           0.18367347  -0.63265306  -1.44897959  -2.26530612\n",
      "  -3.08163265  -3.89795918  -4.71428571  -5.53061224  -6.34693878\n",
      "  -7.16326531  -7.97959184  -8.79591837  -9.6122449  -10.42857143\n",
      " -11.24489796 -12.06122449 -12.87755102 -13.69387755 -14.51020408\n",
      " -15.32653061 -16.14285714 -16.95918367 -17.7755102  -18.59183673\n",
      " -19.40816327 -20.2244898  -21.04081633 -21.85714286 -22.67346939\n",
      " -23.48979592 -24.30612245 -25.12244898 -25.93877551 -26.75510204\n",
      " -27.57142857 -28.3877551  -29.20408163 -30.02040816 -30.83673469\n",
      " -31.65306122 -32.46938776 -33.28571429 -34.10204082 -34.91836735\n",
      " -35.73469388 -36.55102041 -37.36734694 -38.18367347 -39.        ]\n"
     ]
    }
   ],
   "source": [
    "def obj_func(x):\n",
    "    return  -2*x + 1\n",
    "x = np.linspace(0,20)\n",
    "y = obj_func(x)\n",
    "print(x.shape)\n",
    "print(x)\n",
    "print(y.shape)\n",
    "print(y)"
   ]
  },
  {
   "cell_type": "code",
   "execution_count": 291,
   "metadata": {},
   "outputs": [
    {
     "name": "stdout",
     "output_type": "stream",
     "text": [
      "[[  8.16326531 -15.32653061]\n",
      " [  0.40816327   0.18367347]\n",
      " [ 11.02040816 -21.04081633]\n",
      " [  5.30612245  -9.6122449 ]\n",
      " [ 15.51020408 -30.02040816]\n",
      " [  6.53061224 -12.06122449]\n",
      " [ 17.55102041 -34.10204082]\n",
      " [  7.34693878 -13.69387755]\n",
      " [ 13.46938776 -25.93877551]\n",
      " [ 16.73469388 -32.46938776]\n",
      " [  1.2244898   -1.44897959]\n",
      " [ 11.42857143 -21.85714286]\n",
      " [  2.04081633  -3.08163265]\n",
      " [  5.71428571 -10.42857143]\n",
      " [  8.57142857 -16.14285714]\n",
      " [  7.75510204 -14.51020408]\n",
      " [  2.44897959  -3.89795918]\n",
      " [ 10.20408163 -19.40816327]\n",
      " [ 11.83673469 -22.67346939]\n",
      " [ 14.69387755 -28.3877551 ]\n",
      " [  3.26530612  -5.53061224]\n",
      " [ 19.59183673 -38.18367347]\n",
      " [  6.12244898 -11.24489796]\n",
      " [  9.3877551  -17.7755102 ]\n",
      " [  8.97959184 -16.95918367]\n",
      " [  6.93877551 -12.87755102]\n",
      " [ 15.10204082 -29.20408163]\n",
      " [  0.           1.        ]\n",
      " [ 12.65306122 -24.30612245]\n",
      " [ 20.         -39.        ]\n",
      " [ 12.24489796 -23.48979592]\n",
      " [  0.81632653  -0.63265306]\n",
      " [ 19.18367347 -37.36734694]\n",
      " [  3.67346939  -6.34693878]\n",
      " [  9.79591837 -18.59183673]\n",
      " [ 18.36734694 -35.73469388]\n",
      " [  1.63265306  -2.26530612]\n",
      " [ 16.32653061 -31.65306122]\n",
      " [ 10.6122449  -20.2244898 ]\n",
      " [  2.85714286  -4.71428571]\n",
      " [ 14.28571429 -27.57142857]\n",
      " [ 13.87755102 -26.75510204]\n",
      " [ 17.95918367 -34.91836735]\n",
      " [  4.08163265  -7.16326531]\n",
      " [ 15.91836735 -30.83673469]\n",
      " [ 18.7755102  -36.55102041]\n",
      " [  4.48979592  -7.97959184]\n",
      " [ 13.06122449 -25.12244898]\n",
      " [ 17.14285714 -33.28571429]\n",
      " [  4.89795918  -8.79591837]]\n"
     ]
    }
   ],
   "source": [
    "x = x.reshape((50,1))\n",
    "y = y.reshape((50,1))\n",
    "data = np.concatenate((x,y),axis=1)\n",
    "np.random.shuffle(data)\n",
    "print(data)\n",
    "# print(x.shape)\n",
    "# print(x)\n",
    "# print(y.shape)\n",
    "# print(y)"
   ]
  },
  {
   "cell_type": "code",
   "execution_count": 292,
   "metadata": {},
   "outputs": [
    {
     "name": "stdout",
     "output_type": "stream",
     "text": [
      "(50, 1)\n",
      "[[ 8.16326531]\n",
      " [ 0.40816327]\n",
      " [11.02040816]\n",
      " [ 5.30612245]\n",
      " [15.51020408]\n",
      " [ 6.53061224]\n",
      " [17.55102041]\n",
      " [ 7.34693878]\n",
      " [13.46938776]\n",
      " [16.73469388]\n",
      " [ 1.2244898 ]\n",
      " [11.42857143]\n",
      " [ 2.04081633]\n",
      " [ 5.71428571]\n",
      " [ 8.57142857]\n",
      " [ 7.75510204]\n",
      " [ 2.44897959]\n",
      " [10.20408163]\n",
      " [11.83673469]\n",
      " [14.69387755]\n",
      " [ 3.26530612]\n",
      " [19.59183673]\n",
      " [ 6.12244898]\n",
      " [ 9.3877551 ]\n",
      " [ 8.97959184]\n",
      " [ 6.93877551]\n",
      " [15.10204082]\n",
      " [ 0.        ]\n",
      " [12.65306122]\n",
      " [20.        ]\n",
      " [12.24489796]\n",
      " [ 0.81632653]\n",
      " [19.18367347]\n",
      " [ 3.67346939]\n",
      " [ 9.79591837]\n",
      " [18.36734694]\n",
      " [ 1.63265306]\n",
      " [16.32653061]\n",
      " [10.6122449 ]\n",
      " [ 2.85714286]\n",
      " [14.28571429]\n",
      " [13.87755102]\n",
      " [17.95918367]\n",
      " [ 4.08163265]\n",
      " [15.91836735]\n",
      " [18.7755102 ]\n",
      " [ 4.48979592]\n",
      " [13.06122449]\n",
      " [17.14285714]\n",
      " [ 4.89795918]]\n",
      "(50, 1)\n",
      "[[-15.32653061]\n",
      " [  0.18367347]\n",
      " [-21.04081633]\n",
      " [ -9.6122449 ]\n",
      " [-30.02040816]\n",
      " [-12.06122449]\n",
      " [-34.10204082]\n",
      " [-13.69387755]\n",
      " [-25.93877551]\n",
      " [-32.46938776]\n",
      " [ -1.44897959]\n",
      " [-21.85714286]\n",
      " [ -3.08163265]\n",
      " [-10.42857143]\n",
      " [-16.14285714]\n",
      " [-14.51020408]\n",
      " [ -3.89795918]\n",
      " [-19.40816327]\n",
      " [-22.67346939]\n",
      " [-28.3877551 ]\n",
      " [ -5.53061224]\n",
      " [-38.18367347]\n",
      " [-11.24489796]\n",
      " [-17.7755102 ]\n",
      " [-16.95918367]\n",
      " [-12.87755102]\n",
      " [-29.20408163]\n",
      " [  1.        ]\n",
      " [-24.30612245]\n",
      " [-39.        ]\n",
      " [-23.48979592]\n",
      " [ -0.63265306]\n",
      " [-37.36734694]\n",
      " [ -6.34693878]\n",
      " [-18.59183673]\n",
      " [-35.73469388]\n",
      " [ -2.26530612]\n",
      " [-31.65306122]\n",
      " [-20.2244898 ]\n",
      " [ -4.71428571]\n",
      " [-27.57142857]\n",
      " [-26.75510204]\n",
      " [-34.91836735]\n",
      " [ -7.16326531]\n",
      " [-30.83673469]\n",
      " [-36.55102041]\n",
      " [ -7.97959184]\n",
      " [-25.12244898]\n",
      " [-33.28571429]\n",
      " [ -8.79591837]]\n"
     ]
    }
   ],
   "source": [
    "x = data[:,0]\n",
    "y = data[:,1]\n",
    "x = x.reshape((50,1))\n",
    "y = y.reshape((50,1))\n",
    "print(x.shape)\n",
    "print(x)\n",
    "print(y.shape)\n",
    "print(y)"
   ]
  },
  {
   "cell_type": "code",
   "execution_count": 293,
   "metadata": {},
   "outputs": [
    {
     "name": "stdout",
     "output_type": "stream",
     "text": [
      "(50, 2)\n",
      "[[ 1.          8.16326531]\n",
      " [ 1.          0.40816327]\n",
      " [ 1.         11.02040816]\n",
      " [ 1.          5.30612245]\n",
      " [ 1.         15.51020408]\n",
      " [ 1.          6.53061224]\n",
      " [ 1.         17.55102041]\n",
      " [ 1.          7.34693878]\n",
      " [ 1.         13.46938776]\n",
      " [ 1.         16.73469388]\n",
      " [ 1.          1.2244898 ]\n",
      " [ 1.         11.42857143]\n",
      " [ 1.          2.04081633]\n",
      " [ 1.          5.71428571]\n",
      " [ 1.          8.57142857]\n",
      " [ 1.          7.75510204]\n",
      " [ 1.          2.44897959]\n",
      " [ 1.         10.20408163]\n",
      " [ 1.         11.83673469]\n",
      " [ 1.         14.69387755]\n",
      " [ 1.          3.26530612]\n",
      " [ 1.         19.59183673]\n",
      " [ 1.          6.12244898]\n",
      " [ 1.          9.3877551 ]\n",
      " [ 1.          8.97959184]\n",
      " [ 1.          6.93877551]\n",
      " [ 1.         15.10204082]\n",
      " [ 1.          0.        ]\n",
      " [ 1.         12.65306122]\n",
      " [ 1.         20.        ]\n",
      " [ 1.         12.24489796]\n",
      " [ 1.          0.81632653]\n",
      " [ 1.         19.18367347]\n",
      " [ 1.          3.67346939]\n",
      " [ 1.          9.79591837]\n",
      " [ 1.         18.36734694]\n",
      " [ 1.          1.63265306]\n",
      " [ 1.         16.32653061]\n",
      " [ 1.         10.6122449 ]\n",
      " [ 1.          2.85714286]\n",
      " [ 1.         14.28571429]\n",
      " [ 1.         13.87755102]\n",
      " [ 1.         17.95918367]\n",
      " [ 1.          4.08163265]\n",
      " [ 1.         15.91836735]\n",
      " [ 1.         18.7755102 ]\n",
      " [ 1.          4.48979592]\n",
      " [ 1.         13.06122449]\n",
      " [ 1.         17.14285714]\n",
      " [ 1.          4.89795918]]\n"
     ]
    }
   ],
   "source": [
    "x = np.concatenate((np.ones((x.shape[0],1)),x),axis=1)\n",
    "print(x.shape)\n",
    "print(x)"
   ]
  },
  {
   "cell_type": "code",
   "execution_count": 294,
   "metadata": {},
   "outputs": [
    {
     "name": "stdout",
     "output_type": "stream",
     "text": [
      "[[0. 0.]]\n",
      "(1, 2)\n"
     ]
    }
   ],
   "source": [
    "#inializing theta\n",
    "theta = np.zeros((1,x.shape[1]))\n",
    "print(theta)\n",
    "print(theta.shape)"
   ]
  },
  {
   "cell_type": "code",
   "execution_count": 295,
   "metadata": {},
   "outputs": [],
   "source": [
    "# cost function\n",
    "def cost(x, y, theta):\n",
    "    # x(13,2) . theta(1,2) = h(13,1)\n",
    "    h_x = x @ theta.T\n",
    "    error = ((h_x - y).T @ (h_x - y))/2*x.shape[0]\n",
    "    return error[0,0]"
   ]
  },
  {
   "cell_type": "code",
   "execution_count": 296,
   "metadata": {},
   "outputs": [],
   "source": [
    "def grad (x, y, theta):\n",
    "    # x(13,2) . theta(1,2) = h(13,1)\n",
    "    h_x = x @ theta.T\n",
    "    # x(13,2) - h(13,1) = g(13,1)\n",
    "    grad = x.T @ (h_x - y) / x.shape[0]\n",
    "    return grad.T"
   ]
  },
  {
   "cell_type": "code",
   "execution_count": 297,
   "metadata": {},
   "outputs": [],
   "source": [
    "def BGD (x, y, theta_min, it, alpha, batch):\n",
    "    step = int(x.shape[0]/batch)\n",
    "    pred = [x @ theta_min.T]\n",
    "    thetas = [theta_min]            # a list of thetas (list of arrays (1,2))\n",
    "    error = [cost(x[0:step], y[0:step], theta_min)]  # a list of output of cost function (list of values)\n",
    "    for i in range(it):\n",
    "        for j in range(0, x.shape[0], step):\n",
    "            if (j>0 and abs(error[-1]- error[-2])<=1e-10):\n",
    "                print(f\"diverage after {i} iterations\")\n",
    "                break\n",
    "            theta_min = theta_min - alpha * grad(x[j:j+step], y[j:j+step], theta_min)\n",
    "            error.append(cost(x[j:j+step], y[j:j+step], theta_min))\n",
    "            thetas.append(theta_min)\n",
    "            pred.append(x @ theta_min.T)\n",
    "    return thetas, theta_min, error, pred"
   ]
  },
  {
   "cell_type": "code",
   "execution_count": 298,
   "metadata": {},
   "outputs": [
    {
     "name": "stdout",
     "output_type": "stream",
     "text": [
      "[[ 0.91054314 -1.99400384]]\n",
      "0.020894622772494615\n",
      "[[ 0.91054314 -1.99400384]]\n"
     ]
    }
   ],
   "source": [
    "epochs = 100\n",
    "alpha = 0.01\n",
    "batch = 10\n",
    "thetas, theta_min, cost, pred = BGD (x, y, theta, epochs, alpha, batch) \n",
    "print(theta_min)\n",
    "print(cost[-1])\n",
    "print(thetas[-1])"
   ]
  },
  {
   "cell_type": "code",
   "execution_count": 299,
   "metadata": {},
   "outputs": [
    {
     "data": {
      "text/plain": [
       "[<matplotlib.lines.Line2D at 0x291a6692250>]"
      ]
     },
     "execution_count": 299,
     "metadata": {},
     "output_type": "execute_result"
    },
    {
     "data": {
      "image/png": "[encoded data removed]",
      "text/plain": [
       "<Figure size 432x288 with 1 Axes>"
      ]
     },
     "metadata": {
      "needs_background": "light"
     },
     "output_type": "display_data"
    }
   ],
   "source": [
    "plt.plot(range(len(cost)),cost)  #range(len(cost)) is the number of iterations "
   ]
  },
  {
   "cell_type": "code",
   "execution_count": 300,
   "metadata": {},
   "outputs": [
    {
     "data": {
      "image/png": "[encoded data removed]",
      "text/plain": [
       "<Figure size 432x288 with 1 Axes>"
      ]
     },
     "metadata": {
      "needs_background": "light"
     },
     "output_type": "display_data"
    }
   ],
   "source": [
    "plt.scatter(x[:,1],y)\n",
    "for i in  pred:\n",
    "    plt.plot(x[:,1],i)"
   ]
  },
  {
   "cell_type": "code",
   "execution_count": 301,
   "metadata": {},
   "outputs": [
    {
     "name": "stdout",
     "output_type": "stream",
     "text": [
      "[[-15.36703923 -15.32653061]\n",
      " [  0.09666402   0.18367347]\n",
      " [-21.06419306 -21.04081633]\n",
      " [ -9.6698854   -9.6122449 ]\n",
      " [-30.01686336 -30.02040816]\n",
      " [-12.11152276 -12.06122449]\n",
      " [-34.08625895 -34.10204082]\n",
      " [-13.73928099 -13.69387755]\n",
      " [-25.94746777 -25.93877551]\n",
      " [-32.45850071 -32.46938776]\n",
      " [ -1.53109422  -1.44897959]\n",
      " [-21.87807218 -21.85714286]\n",
      " [ -3.15885246  -3.08163265]\n",
      " [-10.48376452 -10.42857143]\n",
      " [-16.18091835 -16.14285714]\n",
      " [-14.55316011 -14.51020408]\n",
      " [ -3.97273157  -3.89795918]\n",
      " [-19.43643482 -19.40816327]\n",
      " [-22.69195129 -22.67346939]\n",
      " [-28.38910512 -28.3877551 ]\n",
      " [ -5.60048981  -5.53061224]\n",
      " [-38.15565454 -38.18367347]\n",
      " [-11.29764364 -11.24489796]\n",
      " [-17.80867658 -17.7755102 ]\n",
      " [-16.99479747 -16.95918367]\n",
      " [-12.92540188 -12.87755102]\n",
      " [-29.20298424 -29.20408163]\n",
      " [  0.91054314   1.        ]\n",
      " [-24.31970953 -24.30612245]\n",
      " [-38.96953366 -39.        ]\n",
      " [-23.50583041 -23.48979592]\n",
      " [ -0.7172151   -0.63265306]\n",
      " [-37.34177542 -37.36734694]\n",
      " [ -6.41436893  -6.34693878]\n",
      " [-18.6225557  -18.59183673]\n",
      " [-35.71401719 -35.73469388]\n",
      " [ -2.34497334  -2.26530612]\n",
      " [-31.6446216  -31.65306122]\n",
      " [-20.25031394 -20.2244898 ]\n",
      " [ -4.78661069  -4.71428571]\n",
      " [-27.575226   -27.57142857]\n",
      " [-26.76134689 -26.75510204]\n",
      " [-34.90013807 -34.91836735]\n",
      " [ -7.22824805  -7.16326531]\n",
      " [-30.83074248 -30.83673469]\n",
      " [-36.52789631 -36.55102041]\n",
      " [ -8.04212717  -7.97959184]\n",
      " [-25.13358865 -25.12244898]\n",
      " [-33.27237983 -33.28571429]\n",
      " [ -8.85600628  -8.79591837]]\n"
     ]
    }
   ],
   "source": [
    "f = x @ theta_min.T\n",
    "print(np.concatenate((f,y),axis=1))"
   ]
  },
  {
   "cell_type": "code",
   "execution_count": 302,
   "metadata": {},
   "outputs": [
    {
     "data": {
      "image/png": "[encoded data removed]",
      "text/plain": [
       "<Figure size 432x288 with 1 Axes>"
      ]
     },
     "metadata": {
      "needs_background": "light"
     },
     "output_type": "display_data"
    }
   ],
   "source": [
    "_ = plt.scatter(x[:,1],y)\n",
    "_ = plt.xlabel('x values')\n",
    "_ = plt.ylabel('y values')\n",
    "_ = plt.plot(x[:,1],f)"
   ]
  },
  {
   "cell_type": "code",
   "execution_count": 303,
   "metadata": {},
   "outputs": [
    {
     "data": {
      "image/png": "[encoded data removed]",
      "text/plain": [
       "<Figure size 432x288 with 1 Axes>"
      ]
     },
     "metadata": {
      "needs_background": "light"
     },
     "output_type": "display_data"
    }
   ],
   "source": [
    "thetas = np.squeeze(np.array(thetas))\n",
    "plt.plot(range(len(cost)),thetas[:,0])\n",
    "_ = plt.xlabel('iterations')\n",
    "_ = plt.ylabel('theta_0')"
   ]
  },
  {
   "cell_type": "code",
   "execution_count": 304,
   "metadata": {},
   "outputs": [
    {
     "data": {
      "image/png": "[encoded data removed]",
      "text/plain": [
       "<Figure size 432x288 with 1 Axes>"
      ]
     },
     "metadata": {
      "needs_background": "light"
     },
     "output_type": "display_data"
    }
   ],
   "source": [
    "thetas = np.squeeze(np.array(thetas))\n",
    "plt.plot(range(len(cost)),thetas[:,1])\n",
    "_ = plt.xlabel('iterations')\n",
    "_ = plt.ylabel('theta_1')"
   ]
  },
  {
   "cell_type": "code",
   "execution_count": 305,
   "metadata": {},
   "outputs": [
    {
     "name": "stdout",
     "output_type": "stream",
     "text": [
      "(1001, 2)\n"
     ]
    },
    {
     "data": {
      "text/plain": [
       "Text(0, 0.5, 'Cost Value')"
      ]
     },
     "execution_count": 305,
     "metadata": {},
     "output_type": "execute_result"
    },
    {
     "data": {
      "image/png": "[encoded data removed]",
      "text/plain": [
       "<Figure size 432x288 with 1 Axes>"
      ]
     },
     "metadata": {
      "needs_background": "light"
     },
     "output_type": "display_data"
    }
   ],
   "source": [
    "thetas = np.squeeze(np.array(thetas))\n",
    "print(thetas.shape)\n",
    "fig,ax = plt.subplots()\n",
    "ax.plot(thetas[:,1], cost ,'r')\n",
    "\n",
    "ax.set_xlabel('Theta_1')\n",
    "ax.set_ylabel('Cost Value')"
   ]
  },
  {
   "cell_type": "code",
   "execution_count": 306,
   "metadata": {},
   "outputs": [
    {
     "name": "stdout",
     "output_type": "stream",
     "text": [
      "(1001, 2)\n"
     ]
    },
    {
     "data": {
      "text/plain": [
       "Text(0, 0.5, 'Cost Value')"
      ]
     },
     "execution_count": 306,
     "metadata": {},
     "output_type": "execute_result"
    },
    {
     "data": {
      "image/png": "[encoded data removed]",
      "text/plain": [
       "<Figure size 432x288 with 1 Axes>"
      ]
     },
     "metadata": {
      "needs_background": "light"
     },
     "output_type": "display_data"
    }
   ],
   "source": [
    "thetas = np.squeeze(np.array(thetas))\n",
    "print(thetas.shape)\n",
    "fig,ax = plt.subplots()\n",
    "ax.plot(thetas[:,0], cost ,'r')\n",
    "\n",
    "ax.set_xlabel('Theta_0')\n",
    "ax.set_ylabel('Cost Value')"
   ]
  },
  {
   "cell_type": "markdown",
   "metadata": {},
   "source": [
    "#### Plot all regression lines till converge"
   ]
  },
  {
   "cell_type": "code",
   "execution_count": null,
   "metadata": {},
   "outputs": [],
   "source": []
  },
  {
   "cell_type": "code",
   "execution_count": null,
   "metadata": {},
   "outputs": [],
   "source": []
  },
  {
   "cell_type": "markdown",
   "metadata": {},
   "source": [
    "#### Plot the best regression line"
   ]
  },
  {
   "cell_type": "code",
   "execution_count": null,
   "metadata": {},
   "outputs": [],
   "source": []
  },
  {
   "cell_type": "code",
   "execution_count": null,
   "metadata": {},
   "outputs": [],
   "source": []
  },
  {
   "cell_type": "markdown",
   "metadata": {},
   "source": [
    "#### Try different learning rate and number of iterations then plot loss vs. epochs, loss vs. Theat_0 and Theta_1\n",
    "#### all regression lines till converge, and the best regression line\n",
    "#### and see the difference in output."
   ]
  },
  {
   "cell_type": "code",
   "execution_count": null,
   "metadata": {},
   "outputs": [],
   "source": []
  },
  {
   "cell_type": "code",
   "execution_count": null,
   "metadata": {},
   "outputs": [],
   "source": []
  },
  {
   "cell_type": "code",
   "execution_count": null,
   "metadata": {},
   "outputs": [],
   "source": []
  },
  {
   "cell_type": "code",
   "execution_count": null,
   "metadata": {},
   "outputs": [],
   "source": []
  },
  {
   "cell_type": "code",
   "execution_count": null,
   "metadata": {},
   "outputs": [],
   "source": []
  },
  {
   "cell_type": "code",
   "execution_count": null,
   "metadata": {},
   "outputs": [],
   "source": []
  },
  {
   "cell_type": "code",
   "execution_count": null,
   "metadata": {},
   "outputs": [],
   "source": []
  },
  {
   "cell_type": "code",
   "execution_count": null,
   "metadata": {},
   "outputs": [],
   "source": []
  },
  {
   "cell_type": "code",
   "execution_count": null,
   "metadata": {},
   "outputs": [],
   "source": []
  },
  {
   "cell_type": "code",
   "execution_count": null,
   "metadata": {},
   "outputs": [],
   "source": []
  },
  {
   "cell_type": "code",
   "execution_count": null,
   "metadata": {},
   "outputs": [],
   "source": []
  },
  {
   "cell_type": "code",
   "execution_count": null,
   "metadata": {},
   "outputs": [],
   "source": []
  },
  {
   "cell_type": "markdown",
   "metadata": {},
   "source": [
    "#### Update the implementation of the Batch GD to be Mini-Batch and repeat the above plots and evaluations\n",
    "#### Change batch size and see the effect\n",
    "### Note: Try once without shuffling the data and once with shuffle and see the effect on the output."
   ]
  },
  {
   "cell_type": "code",
   "execution_count": null,
   "metadata": {},
   "outputs": [],
   "source": []
  },
  {
   "cell_type": "code",
   "execution_count": null,
   "metadata": {},
   "outputs": [],
   "source": []
  },
  {
   "cell_type": "code",
   "execution_count": null,
   "metadata": {},
   "outputs": [],
   "source": []
  },
  {
   "cell_type": "code",
   "execution_count": null,
   "metadata": {},
   "outputs": [],
   "source": []
  },
  {
   "cell_type": "code",
   "execution_count": null,
   "metadata": {},
   "outputs": [],
   "source": []
  },
  {
   "cell_type": "code",
   "execution_count": null,
   "metadata": {},
   "outputs": [],
   "source": []
  },
  {
   "cell_type": "code",
   "execution_count": null,
   "metadata": {},
   "outputs": [],
   "source": []
  },
  {
   "cell_type": "code",
   "execution_count": null,
   "metadata": {},
   "outputs": [],
   "source": []
  },
  {
   "cell_type": "code",
   "execution_count": null,
   "metadata": {},
   "outputs": [],
   "source": []
  },
  {
   "cell_type": "code",
   "execution_count": null,
   "metadata": {},
   "outputs": [],
   "source": []
  },
  {
   "cell_type": "code",
   "execution_count": null,
   "metadata": {},
   "outputs": [],
   "source": []
  },
  {
   "cell_type": "code",
   "execution_count": null,
   "metadata": {},
   "outputs": [],
   "source": []
  },
  {
   "cell_type": "code",
   "execution_count": null,
   "metadata": {},
   "outputs": [],
   "source": []
  },
  {
   "cell_type": "code",
   "execution_count": null,
   "metadata": {},
   "outputs": [],
   "source": []
  },
  {
   "cell_type": "code",
   "execution_count": null,
   "metadata": {},
   "outputs": [],
   "source": []
  },
  {
   "cell_type": "markdown",
   "metadata": {},
   "source": [
    "## Stochastic GD"
   ]
  },
  {
   "cell_type": "markdown",
   "metadata": {},
   "source": [
    "#### Update the implementation of the Batch GD to beStochastic and rpeat the above plots and evaluations\n",
    "#### You can try different learning rate and see its effect.\n",
    "#### Compare to Batch and Mini-Batch GD\n",
    "### Note: Try once without shuffling the data and once with shuffle and see the effect on the output."
   ]
  },
  {
   "cell_type": "code",
   "execution_count": 275,
   "metadata": {},
   "outputs": [],
   "source": [
    "import numpy as np\n",
    "import matplotlib.pyplot as plt"
   ]
  },
  {
   "cell_type": "code",
   "execution_count": 276,
   "metadata": {},
   "outputs": [
    {
     "name": "stdout",
     "output_type": "stream",
     "text": [
      "(50,)\n",
      "[ 0.          0.40816327  0.81632653  1.2244898   1.63265306  2.04081633\n",
      "  2.44897959  2.85714286  3.26530612  3.67346939  4.08163265  4.48979592\n",
      "  4.89795918  5.30612245  5.71428571  6.12244898  6.53061224  6.93877551\n",
      "  7.34693878  7.75510204  8.16326531  8.57142857  8.97959184  9.3877551\n",
      "  9.79591837 10.20408163 10.6122449  11.02040816 11.42857143 11.83673469\n",
      " 12.24489796 12.65306122 13.06122449 13.46938776 13.87755102 14.28571429\n",
      " 14.69387755 15.10204082 15.51020408 15.91836735 16.32653061 16.73469388\n",
      " 17.14285714 17.55102041 17.95918367 18.36734694 18.7755102  19.18367347\n",
      " 19.59183673 20.        ]\n",
      "(50,)\n",
      "[  1.           0.18367347  -0.63265306  -1.44897959  -2.26530612\n",
      "  -3.08163265  -3.89795918  -4.71428571  -5.53061224  -6.34693878\n",
      "  -7.16326531  -7.97959184  -8.79591837  -9.6122449  -10.42857143\n",
      " -11.24489796 -12.06122449 -12.87755102 -13.69387755 -14.51020408\n",
      " -15.32653061 -16.14285714 -16.95918367 -17.7755102  -18.59183673\n",
      " -19.40816327 -20.2244898  -21.04081633 -21.85714286 -22.67346939\n",
      " -23.48979592 -24.30612245 -25.12244898 -25.93877551 -26.75510204\n",
      " -27.57142857 -28.3877551  -29.20408163 -30.02040816 -30.83673469\n",
      " -31.65306122 -32.46938776 -33.28571429 -34.10204082 -34.91836735\n",
      " -35.73469388 -36.55102041 -37.36734694 -38.18367347 -39.        ]\n"
     ]
    }
   ],
   "source": [
    "def obj_func(x):\n",
    "    return  -2*x + 1\n",
    "x = np.linspace(0,20)\n",
    "y = obj_func(x)\n",
    "print(x.shape)\n",
    "print(x)\n",
    "print(y.shape)\n",
    "print(y)"
   ]
  },
  {
   "cell_type": "code",
   "execution_count": 277,
   "metadata": {},
   "outputs": [
    {
     "name": "stdout",
     "output_type": "stream",
     "text": [
      "(50, 1)\n",
      "[[ 0.        ]\n",
      " [ 0.40816327]\n",
      " [ 0.81632653]\n",
      " [ 1.2244898 ]\n",
      " [ 1.63265306]\n",
      " [ 2.04081633]\n",
      " [ 2.44897959]\n",
      " [ 2.85714286]\n",
      " [ 3.26530612]\n",
      " [ 3.67346939]\n",
      " [ 4.08163265]\n",
      " [ 4.48979592]\n",
      " [ 4.89795918]\n",
      " [ 5.30612245]\n",
      " [ 5.71428571]\n",
      " [ 6.12244898]\n",
      " [ 6.53061224]\n",
      " [ 6.93877551]\n",
      " [ 7.34693878]\n",
      " [ 7.75510204]\n",
      " [ 8.16326531]\n",
      " [ 8.57142857]\n",
      " [ 8.97959184]\n",
      " [ 9.3877551 ]\n",
      " [ 9.79591837]\n",
      " [10.20408163]\n",
      " [10.6122449 ]\n",
      " [11.02040816]\n",
      " [11.42857143]\n",
      " [11.83673469]\n",
      " [12.24489796]\n",
      " [12.65306122]\n",
      " [13.06122449]\n",
      " [13.46938776]\n",
      " [13.87755102]\n",
      " [14.28571429]\n",
      " [14.69387755]\n",
      " [15.10204082]\n",
      " [15.51020408]\n",
      " [15.91836735]\n",
      " [16.32653061]\n",
      " [16.73469388]\n",
      " [17.14285714]\n",
      " [17.55102041]\n",
      " [17.95918367]\n",
      " [18.36734694]\n",
      " [18.7755102 ]\n",
      " [19.18367347]\n",
      " [19.59183673]\n",
      " [20.        ]]\n",
      "(50, 1)\n",
      "[[  1.        ]\n",
      " [  0.18367347]\n",
      " [ -0.63265306]\n",
      " [ -1.44897959]\n",
      " [ -2.26530612]\n",
      " [ -3.08163265]\n",
      " [ -3.89795918]\n",
      " [ -4.71428571]\n",
      " [ -5.53061224]\n",
      " [ -6.34693878]\n",
      " [ -7.16326531]\n",
      " [ -7.97959184]\n",
      " [ -8.79591837]\n",
      " [ -9.6122449 ]\n",
      " [-10.42857143]\n",
      " [-11.24489796]\n",
      " [-12.06122449]\n",
      " [-12.87755102]\n",
      " [-13.69387755]\n",
      " [-14.51020408]\n",
      " [-15.32653061]\n",
      " [-16.14285714]\n",
      " [-16.95918367]\n",
      " [-17.7755102 ]\n",
      " [-18.59183673]\n",
      " [-19.40816327]\n",
      " [-20.2244898 ]\n",
      " [-21.04081633]\n",
      " [-21.85714286]\n",
      " [-22.67346939]\n",
      " [-23.48979592]\n",
      " [-24.30612245]\n",
      " [-25.12244898]\n",
      " [-25.93877551]\n",
      " [-26.75510204]\n",
      " [-27.57142857]\n",
      " [-28.3877551 ]\n",
      " [-29.20408163]\n",
      " [-30.02040816]\n",
      " [-30.83673469]\n",
      " [-31.65306122]\n",
      " [-32.46938776]\n",
      " [-33.28571429]\n",
      " [-34.10204082]\n",
      " [-34.91836735]\n",
      " [-35.73469388]\n",
      " [-36.55102041]\n",
      " [-37.36734694]\n",
      " [-38.18367347]\n",
      " [-39.        ]]\n"
     ]
    }
   ],
   "source": [
    "x = x.reshape((50,1))\n",
    "y = y.reshape((50,1))\n",
    "# data = np.concatenate((x,y),axis=1)\n",
    "# data = np.random.shuffle(data)\n",
    "print(x.shape)\n",
    "print(x)\n",
    "print(y.shape)\n",
    "print(y)"
   ]
  },
  {
   "cell_type": "code",
   "execution_count": 278,
   "metadata": {},
   "outputs": [
    {
     "name": "stdout",
     "output_type": "stream",
     "text": [
      "(50, 2)\n",
      "[[ 1.          0.        ]\n",
      " [ 1.          0.40816327]\n",
      " [ 1.          0.81632653]\n",
      " [ 1.          1.2244898 ]\n",
      " [ 1.          1.63265306]\n",
      " [ 1.          2.04081633]\n",
      " [ 1.          2.44897959]\n",
      " [ 1.          2.85714286]\n",
      " [ 1.          3.26530612]\n",
      " [ 1.          3.67346939]\n",
      " [ 1.          4.08163265]\n",
      " [ 1.          4.48979592]\n",
      " [ 1.          4.89795918]\n",
      " [ 1.          5.30612245]\n",
      " [ 1.          5.71428571]\n",
      " [ 1.          6.12244898]\n",
      " [ 1.          6.53061224]\n",
      " [ 1.          6.93877551]\n",
      " [ 1.          7.34693878]\n",
      " [ 1.          7.75510204]\n",
      " [ 1.          8.16326531]\n",
      " [ 1.          8.57142857]\n",
      " [ 1.          8.97959184]\n",
      " [ 1.          9.3877551 ]\n",
      " [ 1.          9.79591837]\n",
      " [ 1.         10.20408163]\n",
      " [ 1.         10.6122449 ]\n",
      " [ 1.         11.02040816]\n",
      " [ 1.         11.42857143]\n",
      " [ 1.         11.83673469]\n",
      " [ 1.         12.24489796]\n",
      " [ 1.         12.65306122]\n",
      " [ 1.         13.06122449]\n",
      " [ 1.         13.46938776]\n",
      " [ 1.         13.87755102]\n",
      " [ 1.         14.28571429]\n",
      " [ 1.         14.69387755]\n",
      " [ 1.         15.10204082]\n",
      " [ 1.         15.51020408]\n",
      " [ 1.         15.91836735]\n",
      " [ 1.         16.32653061]\n",
      " [ 1.         16.73469388]\n",
      " [ 1.         17.14285714]\n",
      " [ 1.         17.55102041]\n",
      " [ 1.         17.95918367]\n",
      " [ 1.         18.36734694]\n",
      " [ 1.         18.7755102 ]\n",
      " [ 1.         19.18367347]\n",
      " [ 1.         19.59183673]\n",
      " [ 1.         20.        ]]\n"
     ]
    }
   ],
   "source": [
    "x = np.concatenate((np.ones((x.shape[0],1)),x),axis=1)\n",
    "print(x.shape)\n",
    "print(x)"
   ]
  },
  {
   "cell_type": "code",
   "execution_count": 279,
   "metadata": {},
   "outputs": [
    {
     "name": "stdout",
     "output_type": "stream",
     "text": [
      "[[0. 0.]]\n",
      "(1, 2)\n"
     ]
    }
   ],
   "source": [
    "#inializing theta\n",
    "theta = np.zeros((1,x.shape[1]))\n",
    "print(theta)\n",
    "print(theta.shape)"
   ]
  },
  {
   "cell_type": "code",
   "execution_count": 280,
   "metadata": {},
   "outputs": [],
   "source": [
    "# cost function\n",
    "def cost(x, y, theta):\n",
    "    # x(13,2) . theta(1,2) = h(13,1)\n",
    "    h_x = x @ theta.T\n",
    "    error = ((h_x - y).T @ (h_x - y))/2*x.shape[0]\n",
    "    return error[0,0]"
   ]
  },
  {
   "cell_type": "code",
   "execution_count": 281,
   "metadata": {},
   "outputs": [],
   "source": [
    "def grad (x, y, theta):\n",
    "    # x(13,2) @ theta(1,2) = h(13,1)\n",
    "    h_x = x @ theta.T\n",
    "    # x(13,2) - h(13,1) = g(13,1)\n",
    "    grad = x.T @ (h_x - y) / x.shape[0]\n",
    "    return grad.T"
   ]
  },
  {
   "cell_type": "code",
   "execution_count": 282,
   "metadata": {},
   "outputs": [],
   "source": [
    "def Stochastic (x, y, theta_min, it, alpha):\n",
    "    step = 1\n",
    "    pred = [x @ theta_min.T]\n",
    "    thetas = [theta_min]            # a list of thetas (list of arrays (1,2))\n",
    "    error = [cost(x[0:step], y[0:step], theta_min)]  # a list of output of cost function (list of values)\n",
    "    for i in range(it):\n",
    "        for j in range(0, x.shape[0], step):\n",
    "            theta_min = theta_min - alpha * grad(x[j:j+step], y[j:j+step], theta_min)\n",
    "            error.append(cost(x[j:j+step], y[j:j+step], theta_min))\n",
    "            thetas.append(theta_min)\n",
    "            pred.append(x @ theta_min.T)\n",
    "    return thetas, theta_min, error, pred"
   ]
  },
  {
   "cell_type": "code",
   "execution_count": 283,
   "metadata": {},
   "outputs": [
    {
     "name": "stdout",
     "output_type": "stream",
     "text": [
      "[[ 0.99795093 -1.99989912]]\n",
      "4.921327200588996e-10\n",
      "[[ 0.99795093 -1.99989912]]\n"
     ]
    }
   ],
   "source": [
    "epochs = 100\n",
    "alpha = 0.01\n",
    "batch = 1\n",
    "thetas, theta_min, cost, pred = Stochastic (x, y, theta, epochs, alpha) \n",
    "print(theta_min)\n",
    "print(cost[-1])\n",
    "print(thetas[-1])"
   ]
  },
  {
   "cell_type": "code",
   "execution_count": 284,
   "metadata": {},
   "outputs": [
    {
     "data": {
      "text/plain": [
       "[<matplotlib.lines.Line2D at 0x291a070f1f0>]"
      ]
     },
     "execution_count": 284,
     "metadata": {},
     "output_type": "execute_result"
    },
    {
     "data": {
      "image/png": "[encoded data removed]",
      "text/plain": [
       "<Figure size 432x288 with 1 Axes>"
      ]
     },
     "metadata": {
      "needs_background": "light"
     },
     "output_type": "display_data"
    }
   ],
   "source": [
    "plt.plot(range(len(cost)),cost)  #range(len(cost)) is the number of iterations "
   ]
  },
  {
   "cell_type": "code",
   "execution_count": 285,
   "metadata": {},
   "outputs": [
    {
     "data": {
      "image/png": "[encoded data removed]",
      "text/plain": [
       "<Figure size 432x288 with 1 Axes>"
      ]
     },
     "metadata": {
      "needs_background": "light"
     },
     "output_type": "display_data"
    }
   ],
   "source": [
    "plt.scatter(x[:,1],y)\n",
    "for i in  pred:\n",
    "    plt.plot(x[:,1],i)"
   ]
  },
  {
   "cell_type": "code",
   "execution_count": 286,
   "metadata": {},
   "outputs": [
    {
     "name": "stdout",
     "output_type": "stream",
     "text": [
      "[[  0.99795093   1.        ]\n",
      " [  0.18166558   0.18367347]\n",
      " [ -0.63461978  -0.63265306]\n",
      " [ -1.45090513  -1.44897959]\n",
      " [ -2.26719048  -2.26530612]\n",
      " [ -3.08347583  -3.08163265]\n",
      " [ -3.89976119  -3.89795918]\n",
      " [ -4.71604654  -4.71428571]\n",
      " [ -5.53233189  -5.53061224]\n",
      " [ -6.34861725  -6.34693878]\n",
      " [ -7.1649026   -7.16326531]\n",
      " [ -7.98118795  -7.97959184]\n",
      " [ -8.79747331  -8.79591837]\n",
      " [ -9.61375866  -9.6122449 ]\n",
      " [-10.43004401 -10.42857143]\n",
      " [-11.24632937 -11.24489796]\n",
      " [-12.06261472 -12.06122449]\n",
      " [-12.87890007 -12.87755102]\n",
      " [-13.69518543 -13.69387755]\n",
      " [-14.51147078 -14.51020408]\n",
      " [-15.32775613 -15.32653061]\n",
      " [-16.14404148 -16.14285714]\n",
      " [-16.96032684 -16.95918367]\n",
      " [-17.77661219 -17.7755102 ]\n",
      " [-18.59289754 -18.59183673]\n",
      " [-19.4091829  -19.40816327]\n",
      " [-20.22546825 -20.2244898 ]\n",
      " [-21.0417536  -21.04081633]\n",
      " [-21.85803896 -21.85714286]\n",
      " [-22.67432431 -22.67346939]\n",
      " [-23.49060966 -23.48979592]\n",
      " [-24.30689502 -24.30612245]\n",
      " [-25.12318037 -25.12244898]\n",
      " [-25.93946572 -25.93877551]\n",
      " [-26.75575108 -26.75510204]\n",
      " [-27.57203643 -27.57142857]\n",
      " [-28.38832178 -28.3877551 ]\n",
      " [-29.20460714 -29.20408163]\n",
      " [-30.02089249 -30.02040816]\n",
      " [-30.83717784 -30.83673469]\n",
      " [-31.65346319 -31.65306122]\n",
      " [-32.46974855 -32.46938776]\n",
      " [-33.2860339  -33.28571429]\n",
      " [-34.10231925 -34.10204082]\n",
      " [-34.91860461 -34.91836735]\n",
      " [-35.73488996 -35.73469388]\n",
      " [-36.55117531 -36.55102041]\n",
      " [-37.36746067 -37.36734694]\n",
      " [-38.18374602 -38.18367347]\n",
      " [-39.00003137 -39.        ]]\n"
     ]
    }
   ],
   "source": [
    "f = x @ theta_min.T\n",
    "print(np.concatenate((f,y),axis=1))"
   ]
  },
  {
   "cell_type": "code",
   "execution_count": 287,
   "metadata": {},
   "outputs": [
    {
     "data": {
      "image/png": "[encoded data removed]",
      "text/plain": [
       "<Figure size 432x288 with 1 Axes>"
      ]
     },
     "metadata": {
      "needs_background": "light"
     },
     "output_type": "display_data"
    }
   ],
   "source": [
    "_ = plt.scatter(x[:,1],y)\n",
    "_ = plt.xlabel('x values')\n",
    "_ = plt.ylabel('y values')\n",
    "_ = plt.plot(x[:,1],f)"
   ]
  },
  {
   "cell_type": "code",
   "execution_count": 288,
   "metadata": {},
   "outputs": [
    {
     "data": {
      "text/plain": [
       "Text(0, 0.5, 'Cost Value')"
      ]
     },
     "execution_count": 288,
     "metadata": {},
     "output_type": "execute_result"
    },
    {
     "data": {
      "image/png": "[encoded data removed]",
      "text/plain": [
       "<Figure size 432x288 with 1 Axes>"
      ]
     },
     "metadata": {
      "needs_background": "light"
     },
     "output_type": "display_data"
    }
   ],
   "source": [
    "thetas = np.squeeze(np.array(thetas))\n",
    "fig,ax = plt.subplots()\n",
    "ax.plot(thetas[:,0], cost ,'r')\n",
    "\n",
    "ax.set_xlabel('Theta_0')\n",
    "ax.set_ylabel('Cost Value')"
   ]
  },
  {
   "cell_type": "code",
   "execution_count": 289,
   "metadata": {},
   "outputs": [
    {
     "data": {
      "text/plain": [
       "Text(0, 0.5, 'Cost Value')"
      ]
     },
     "execution_count": 289,
     "metadata": {},
     "output_type": "execute_result"
    },
    {
     "data": {
      "image/png": "[encoded data removed]",
      "text/plain": [
       "<Figure size 432x288 with 1 Axes>"
      ]
     },
     "metadata": {
      "needs_background": "light"
     },
     "output_type": "display_data"
    }
   ],
   "source": [
    "thetas = np.squeeze(np.array(thetas))\n",
    "fig,ax = plt.subplots()\n",
    "ax.plot(thetas[:,1], cost ,'r')\n",
    "\n",
    "ax.set_xlabel('Theta_1')\n",
    "ax.set_ylabel('Cost Value')"
   ]
  },
  {
   "cell_type": "code",
   "execution_count": 307,
   "metadata": {},
   "outputs": [
    {
     "name": "stdout",
     "output_type": "stream",
     "text": [
      "(50,)\n",
      "[ 0.          0.40816327  0.81632653  1.2244898   1.63265306  2.04081633\n",
      "  2.44897959  2.85714286  3.26530612  3.67346939  4.08163265  4.48979592\n",
      "  4.89795918  5.30612245  5.71428571  6.12244898  6.53061224  6.93877551\n",
      "  7.34693878  7.75510204  8.16326531  8.57142857  8.97959184  9.3877551\n",
      "  9.79591837 10.20408163 10.6122449  11.02040816 11.42857143 11.83673469\n",
      " 12.24489796 12.65306122 13.06122449 13.46938776 13.87755102 14.28571429\n",
      " 14.69387755 15.10204082 15.51020408 15.91836735 16.32653061 16.73469388\n",
      " 17.14285714 17.55102041 17.95918367 18.36734694 18.7755102  19.18367347\n",
      " 19.59183673 20.        ]\n",
      "(50,)\n",
      "[  1.           0.18367347  -0.63265306  -1.44897959  -2.26530612\n",
      "  -3.08163265  -3.89795918  -4.71428571  -5.53061224  -6.34693878\n",
      "  -7.16326531  -7.97959184  -8.79591837  -9.6122449  -10.42857143\n",
      " -11.24489796 -12.06122449 -12.87755102 -13.69387755 -14.51020408\n",
      " -15.32653061 -16.14285714 -16.95918367 -17.7755102  -18.59183673\n",
      " -19.40816327 -20.2244898  -21.04081633 -21.85714286 -22.67346939\n",
      " -23.48979592 -24.30612245 -25.12244898 -25.93877551 -26.75510204\n",
      " -27.57142857 -28.3877551  -29.20408163 -30.02040816 -30.83673469\n",
      " -31.65306122 -32.46938776 -33.28571429 -34.10204082 -34.91836735\n",
      " -35.73469388 -36.55102041 -37.36734694 -38.18367347 -39.        ]\n"
     ]
    }
   ],
   "source": [
    "def obj_func(x):\n",
    "    return  -2*x + 1\n",
    "x = np.linspace(0,20)\n",
    "y = obj_func(x)\n",
    "print(x.shape)\n",
    "print(x)\n",
    "print(y.shape)\n",
    "print(y)"
   ]
  },
  {
   "cell_type": "code",
   "execution_count": 308,
   "metadata": {},
   "outputs": [
    {
     "name": "stdout",
     "output_type": "stream",
     "text": [
      "[[ 19.18367347 -37.36734694]\n",
      " [ 14.28571429 -27.57142857]\n",
      " [ 20.         -39.        ]\n",
      " [ 11.42857143 -21.85714286]\n",
      " [  3.26530612  -5.53061224]\n",
      " [  0.81632653  -0.63265306]\n",
      " [  6.93877551 -12.87755102]\n",
      " [ 18.7755102  -36.55102041]\n",
      " [  0.40816327   0.18367347]\n",
      " [ 11.02040816 -21.04081633]\n",
      " [  8.57142857 -16.14285714]\n",
      " [  8.16326531 -15.32653061]\n",
      " [  9.79591837 -18.59183673]\n",
      " [  2.44897959  -3.89795918]\n",
      " [ 19.59183673 -38.18367347]\n",
      " [  5.30612245  -9.6122449 ]\n",
      " [ 17.95918367 -34.91836735]\n",
      " [  6.53061224 -12.06122449]\n",
      " [ 12.24489796 -23.48979592]\n",
      " [  6.12244898 -11.24489796]\n",
      " [ 16.32653061 -31.65306122]\n",
      " [  7.75510204 -14.51020408]\n",
      " [ 16.73469388 -32.46938776]\n",
      " [  4.89795918  -8.79591837]\n",
      " [  2.04081633  -3.08163265]\n",
      " [  1.63265306  -2.26530612]\n",
      " [ 15.10204082 -29.20408163]\n",
      " [ 10.6122449  -20.2244898 ]\n",
      " [ 15.91836735 -30.83673469]\n",
      " [ 14.69387755 -28.3877551 ]\n",
      " [  8.97959184 -16.95918367]\n",
      " [  1.2244898   -1.44897959]\n",
      " [  2.85714286  -4.71428571]\n",
      " [ 11.83673469 -22.67346939]\n",
      " [  7.34693878 -13.69387755]\n",
      " [ 15.51020408 -30.02040816]\n",
      " [ 13.87755102 -26.75510204]\n",
      " [ 18.36734694 -35.73469388]\n",
      " [ 17.55102041 -34.10204082]\n",
      " [  3.67346939  -6.34693878]\n",
      " [  9.3877551  -17.7755102 ]\n",
      " [ 17.14285714 -33.28571429]\n",
      " [  0.           1.        ]\n",
      " [  4.48979592  -7.97959184]\n",
      " [ 13.46938776 -25.93877551]\n",
      " [  4.08163265  -7.16326531]\n",
      " [ 12.65306122 -24.30612245]\n",
      " [  5.71428571 -10.42857143]\n",
      " [ 10.20408163 -19.40816327]\n",
      " [ 13.06122449 -25.12244898]]\n"
     ]
    }
   ],
   "source": [
    "x = x.reshape((50,1))\n",
    "y = y.reshape((50,1))\n",
    "data = np.concatenate((x,y),axis=1)\n",
    "np.random.shuffle(data)\n",
    "print(data)\n",
    "# print(x.shape)\n",
    "# print(x)\n",
    "# print(y.shape)\n",
    "# print(y)"
   ]
  },
  {
   "cell_type": "code",
   "execution_count": 309,
   "metadata": {},
   "outputs": [
    {
     "name": "stdout",
     "output_type": "stream",
     "text": [
      "(50, 1)\n",
      "[[19.18367347]\n",
      " [14.28571429]\n",
      " [20.        ]\n",
      " [11.42857143]\n",
      " [ 3.26530612]\n",
      " [ 0.81632653]\n",
      " [ 6.93877551]\n",
      " [18.7755102 ]\n",
      " [ 0.40816327]\n",
      " [11.02040816]\n",
      " [ 8.57142857]\n",
      " [ 8.16326531]\n",
      " [ 9.79591837]\n",
      " [ 2.44897959]\n",
      " [19.59183673]\n",
      " [ 5.30612245]\n",
      " [17.95918367]\n",
      " [ 6.53061224]\n",
      " [12.24489796]\n",
      " [ 6.12244898]\n",
      " [16.32653061]\n",
      " [ 7.75510204]\n",
      " [16.73469388]\n",
      " [ 4.89795918]\n",
      " [ 2.04081633]\n",
      " [ 1.63265306]\n",
      " [15.10204082]\n",
      " [10.6122449 ]\n",
      " [15.91836735]\n",
      " [14.69387755]\n",
      " [ 8.97959184]\n",
      " [ 1.2244898 ]\n",
      " [ 2.85714286]\n",
      " [11.83673469]\n",
      " [ 7.34693878]\n",
      " [15.51020408]\n",
      " [13.87755102]\n",
      " [18.36734694]\n",
      " [17.55102041]\n",
      " [ 3.67346939]\n",
      " [ 9.3877551 ]\n",
      " [17.14285714]\n",
      " [ 0.        ]\n",
      " [ 4.48979592]\n",
      " [13.46938776]\n",
      " [ 4.08163265]\n",
      " [12.65306122]\n",
      " [ 5.71428571]\n",
      " [10.20408163]\n",
      " [13.06122449]]\n",
      "(50, 1)\n",
      "[[-37.36734694]\n",
      " [-27.57142857]\n",
      " [-39.        ]\n",
      " [-21.85714286]\n",
      " [ -5.53061224]\n",
      " [ -0.63265306]\n",
      " [-12.87755102]\n",
      " [-36.55102041]\n",
      " [  0.18367347]\n",
      " [-21.04081633]\n",
      " [-16.14285714]\n",
      " [-15.32653061]\n",
      " [-18.59183673]\n",
      " [ -3.89795918]\n",
      " [-38.18367347]\n",
      " [ -9.6122449 ]\n",
      " [-34.91836735]\n",
      " [-12.06122449]\n",
      " [-23.48979592]\n",
      " [-11.24489796]\n",
      " [-31.65306122]\n",
      " [-14.51020408]\n",
      " [-32.46938776]\n",
      " [ -8.79591837]\n",
      " [ -3.08163265]\n",
      " [ -2.26530612]\n",
      " [-29.20408163]\n",
      " [-20.2244898 ]\n",
      " [-30.83673469]\n",
      " [-28.3877551 ]\n",
      " [-16.95918367]\n",
      " [ -1.44897959]\n",
      " [ -4.71428571]\n",
      " [-22.67346939]\n",
      " [-13.69387755]\n",
      " [-30.02040816]\n",
      " [-26.75510204]\n",
      " [-35.73469388]\n",
      " [-34.10204082]\n",
      " [ -6.34693878]\n",
      " [-17.7755102 ]\n",
      " [-33.28571429]\n",
      " [  1.        ]\n",
      " [ -7.97959184]\n",
      " [-25.93877551]\n",
      " [ -7.16326531]\n",
      " [-24.30612245]\n",
      " [-10.42857143]\n",
      " [-19.40816327]\n",
      " [-25.12244898]]\n"
     ]
    }
   ],
   "source": [
    "x = data[:,0]\n",
    "y = data[:,1]\n",
    "x = x.reshape((50,1))\n",
    "y = y.reshape((50,1))\n",
    "print(x.shape)\n",
    "print(x)\n",
    "print(y.shape)\n",
    "print(y)"
   ]
  },
  {
   "cell_type": "code",
   "execution_count": 310,
   "metadata": {},
   "outputs": [
    {
     "name": "stdout",
     "output_type": "stream",
     "text": [
      "(50, 2)\n",
      "[[ 1.         19.18367347]\n",
      " [ 1.         14.28571429]\n",
      " [ 1.         20.        ]\n",
      " [ 1.         11.42857143]\n",
      " [ 1.          3.26530612]\n",
      " [ 1.          0.81632653]\n",
      " [ 1.          6.93877551]\n",
      " [ 1.         18.7755102 ]\n",
      " [ 1.          0.40816327]\n",
      " [ 1.         11.02040816]\n",
      " [ 1.          8.57142857]\n",
      " [ 1.          8.16326531]\n",
      " [ 1.          9.79591837]\n",
      " [ 1.          2.44897959]\n",
      " [ 1.         19.59183673]\n",
      " [ 1.          5.30612245]\n",
      " [ 1.         17.95918367]\n",
      " [ 1.          6.53061224]\n",
      " [ 1.         12.24489796]\n",
      " [ 1.          6.12244898]\n",
      " [ 1.         16.32653061]\n",
      " [ 1.          7.75510204]\n",
      " [ 1.         16.73469388]\n",
      " [ 1.          4.89795918]\n",
      " [ 1.          2.04081633]\n",
      " [ 1.          1.63265306]\n",
      " [ 1.         15.10204082]\n",
      " [ 1.         10.6122449 ]\n",
      " [ 1.         15.91836735]\n",
      " [ 1.         14.69387755]\n",
      " [ 1.          8.97959184]\n",
      " [ 1.          1.2244898 ]\n",
      " [ 1.          2.85714286]\n",
      " [ 1.         11.83673469]\n",
      " [ 1.          7.34693878]\n",
      " [ 1.         15.51020408]\n",
      " [ 1.         13.87755102]\n",
      " [ 1.         18.36734694]\n",
      " [ 1.         17.55102041]\n",
      " [ 1.          3.67346939]\n",
      " [ 1.          9.3877551 ]\n",
      " [ 1.         17.14285714]\n",
      " [ 1.          0.        ]\n",
      " [ 1.          4.48979592]\n",
      " [ 1.         13.46938776]\n",
      " [ 1.          4.08163265]\n",
      " [ 1.         12.65306122]\n",
      " [ 1.          5.71428571]\n",
      " [ 1.         10.20408163]\n",
      " [ 1.         13.06122449]]\n"
     ]
    }
   ],
   "source": [
    "x = np.concatenate((np.ones((x.shape[0],1)),x),axis=1)\n",
    "print(x.shape)\n",
    "print(x)"
   ]
  },
  {
   "cell_type": "code",
   "execution_count": 311,
   "metadata": {},
   "outputs": [
    {
     "name": "stdout",
     "output_type": "stream",
     "text": [
      "[[0. 0.]]\n",
      "(1, 2)\n"
     ]
    }
   ],
   "source": [
    "#inializing theta\n",
    "theta = np.zeros((1,x.shape[1]))\n",
    "print(theta)\n",
    "print(theta.shape)"
   ]
  },
  {
   "cell_type": "code",
   "execution_count": 312,
   "metadata": {},
   "outputs": [],
   "source": [
    "# cost function\n",
    "def cost(x, y, theta):\n",
    "    # x(13,2) . theta(1,2) = h(13,1)\n",
    "    h_x = x @ theta.T\n",
    "    error = ((h_x - y).T @ (h_x - y))/2*x.shape[0]\n",
    "    return error[0,0]"
   ]
  },
  {
   "cell_type": "code",
   "execution_count": 313,
   "metadata": {},
   "outputs": [],
   "source": [
    "def grad (x, y, theta):\n",
    "    # x(13,2) @ theta(1,2) = h(13,1)\n",
    "    h_x = x @ theta.T\n",
    "    # x(13,2) - h(13,1) = g(13,1)\n",
    "    grad = x.T @ (h_x - y) / x.shape[0]\n",
    "    return grad.T"
   ]
  },
  {
   "cell_type": "code",
   "execution_count": 314,
   "metadata": {},
   "outputs": [],
   "source": [
    "def Stochastic (x, y, theta_min, it, alpha):\n",
    "    step = 1\n",
    "    pred = [x @ theta_min.T]\n",
    "    thetas = [theta_min]            # a list of thetas (list of arrays (1,2))\n",
    "    error = [cost(x[0:step], y[0:step], theta_min)]  # a list of output of cost function (list of values)\n",
    "    for i in range(it):\n",
    "        for j in range(0, x.shape[0], step):\n",
    "            theta_min = theta_min - alpha * grad(x[j:j+step], y[j:j+step], theta_min)\n",
    "            error.append(cost(x[j:j+step], y[j:j+step], theta_min))\n",
    "            thetas.append(theta_min)\n",
    "            pred.append(x @ theta_min.T)\n",
    "    return thetas, theta_min, error, pred"
   ]
  },
  {
   "cell_type": "code",
   "execution_count": 315,
   "metadata": {},
   "outputs": [
    {
     "name": "stdout",
     "output_type": "stream",
     "text": [
      "[[ 0.9999972  -1.99999983]]\n",
      "1.7723873220020478e-13\n",
      "[[ 0.9999972  -1.99999983]]\n"
     ]
    }
   ],
   "source": [
    "epochs = 100\n",
    "alpha = 0.01\n",
    "batch = 1\n",
    "thetas, theta_min, cost, pred = Stochastic (x, y, theta, epochs, alpha) \n",
    "print(theta_min)\n",
    "print(cost[-1])\n",
    "print(thetas[-1])"
   ]
  },
  {
   "cell_type": "code",
   "execution_count": 316,
   "metadata": {},
   "outputs": [
    {
     "data": {
      "text/plain": [
       "[<matplotlib.lines.Line2D at 0x291a7645430>]"
      ]
     },
     "execution_count": 316,
     "metadata": {},
     "output_type": "execute_result"
    },
    {
     "data": {
      "image/png": "[encoded data removed]",
      "text/plain": [
       "<Figure size 432x288 with 1 Axes>"
      ]
     },
     "metadata": {
      "needs_background": "light"
     },
     "output_type": "display_data"
    }
   ],
   "source": [
    "plt.plot(range(len(cost)),cost)  #range(len(cost)) is the number of iterations "
   ]
  },
  {
   "cell_type": "code",
   "execution_count": 317,
   "metadata": {},
   "outputs": [
    {
     "data": {
      "image/png": "[encoded data removed]",
      "text/plain": [
       "<Figure size 432x288 with 1 Axes>"
      ]
     },
     "metadata": {
      "needs_background": "light"
     },
     "output_type": "display_data"
    }
   ],
   "source": [
    "plt.scatter(x[:,1],y)\n",
    "for i in  pred:\n",
    "    plt.plot(x[:,1],i)"
   ]
  },
  {
   "cell_type": "code",
   "execution_count": 318,
   "metadata": {},
   "outputs": [
    {
     "name": "stdout",
     "output_type": "stream",
     "text": [
      "[[-37.3673465  -37.36734694]\n",
      " [-27.57142896 -27.57142857]\n",
      " [-38.99999943 -39.        ]\n",
      " [-21.85714373 -21.85714286]\n",
      " [ -5.53061449  -5.53061224]\n",
      " [ -0.63265572  -0.63265306]\n",
      " [-12.87755265 -12.87755102]\n",
      " [-36.55102004 -36.55102041]\n",
      " [  0.18367074   0.18367347]\n",
      " [-21.04081727 -21.04081633]\n",
      " [-16.14285849 -16.14285714]\n",
      " [-15.32653203 -15.32653061]\n",
      " [-18.59183788 -18.59183673]\n",
      " [ -3.89796157  -3.89795918]\n",
      " [-38.18367296 -38.18367347]\n",
      " [ -9.6122468   -9.6122449 ]\n",
      " [-34.91836712 -34.91836735]\n",
      " [-12.06122619 -12.06122449]\n",
      " [-23.48979665 -23.48979592]\n",
      " [-11.24489972 -11.24489796]\n",
      " [-31.65306127 -31.65306122]\n",
      " [-14.51020557 -14.51020408]\n",
      " [-32.46938773 -32.46938776]\n",
      " [ -8.79592034  -8.79591837]\n",
      " [ -3.08163511  -3.08163265]\n",
      " [ -2.26530864  -2.26530612]\n",
      " [-29.20408188 -29.20408163]\n",
      " [-20.2244908  -20.2244898 ]\n",
      " [-30.83673481 -30.83673469]\n",
      " [-28.38775542 -28.3877551 ]\n",
      " [-16.95918496 -16.95918367]\n",
      " [ -1.44898218  -1.44897959]\n",
      " [ -4.71428803  -4.71428571]\n",
      " [-22.67347019 -22.67346939]\n",
      " [-13.69387911 -13.69387755]\n",
      " [-30.02040835 -30.02040816]\n",
      " [-26.7551025  -26.75510204]\n",
      " [-35.73469358 -35.73469388]\n",
      " [-34.10204066 -34.10204082]\n",
      " [ -6.34694095  -6.34693878]\n",
      " [-17.77551142 -17.7755102 ]\n",
      " [-33.28571419 -33.28571429]\n",
      " [  0.9999972    1.        ]\n",
      " [ -7.97959388  -7.97959184]\n",
      " [-25.93877604 -25.93877551]\n",
      " [ -7.16326741  -7.16326531]\n",
      " [-24.30612311 -24.30612245]\n",
      " [-10.42857326 -10.42857143]\n",
      " [-19.40816434 -19.40816327]\n",
      " [-25.12244957 -25.12244898]]\n"
     ]
    }
   ],
   "source": [
    "f = x @ theta_min.T\n",
    "print(np.concatenate((f,y),axis=1))"
   ]
  },
  {
   "cell_type": "code",
   "execution_count": 319,
   "metadata": {},
   "outputs": [
    {
     "data": {
      "image/png": "[encoded data removed]",
      "text/plain": [
       "<Figure size 432x288 with 1 Axes>"
      ]
     },
     "metadata": {
      "needs_background": "light"
     },
     "output_type": "display_data"
    }
   ],
   "source": [
    "_ = plt.scatter(x[:,1],y)\n",
    "_ = plt.xlabel('x values')\n",
    "_ = plt.ylabel('y values')\n",
    "_ = plt.plot(x[:,1],f)"
   ]
  },
  {
   "cell_type": "code",
   "execution_count": 320,
   "metadata": {},
   "outputs": [
    {
     "data": {
      "text/plain": [
       "Text(0, 0.5, 'Cost Value')"
      ]
     },
     "execution_count": 320,
     "metadata": {},
     "output_type": "execute_result"
    },
    {
     "data": {
      "image/png": "[encoded data removed]",
      "text/plain": [
       "<Figure size 432x288 with 1 Axes>"
      ]
     },
     "metadata": {
      "needs_background": "light"
     },
     "output_type": "display_data"
    }
   ],
   "source": [
    "thetas = np.squeeze(np.array(thetas))\n",
    "fig,ax = plt.subplots()\n",
    "ax.plot(thetas[:,0], cost ,'r')\n",
    "\n",
    "ax.set_xlabel('Theta_0')\n",
    "ax.set_ylabel('Cost Value')"
   ]
  },
  {
   "cell_type": "code",
   "execution_count": 321,
   "metadata": {},
   "outputs": [
    {
     "data": {
      "text/plain": [
       "Text(0, 0.5, 'Cost Value')"
      ]
     },
     "execution_count": 321,
     "metadata": {},
     "output_type": "execute_result"
    },
    {
     "data": {
      "image/png": "[encoded data removed]",
      "text/plain": [
       "<Figure size 432x288 with 1 Axes>"
      ]
     },
     "metadata": {
      "needs_background": "light"
     },
     "output_type": "display_data"
    }
   ],
   "source": [
    "thetas = np.squeeze(np.array(thetas))\n",
    "fig,ax = plt.subplots()\n",
    "ax.plot(thetas[:,1], cost ,'r')\n",
    "\n",
    "ax.set_xlabel('Theta_1')\n",
    "ax.set_ylabel('Cost Value')"
   ]
  },
  {
   "cell_type": "code",
   "execution_count": null,
   "metadata": {},
   "outputs": [],
   "source": []
  }
 ],
 "metadata": {
  "kernelspec": {
   "display_name": "Python 3 (ipykernel)",
   "language": "python",
   "name": "python3"
  },
  "language_info": {
   "codemirror_mode": {
    "name": "ipython",
    "version": 3
   },
   "file_extension": ".py",
   "mimetype": "text/x-python",
   "name": "python",
   "nbconvert_exporter": "python",
   "pygments_lexer": "ipython3",
   "version": "3.9.7"
  }
 },
 "nbformat": 4,
 "nbformat_minor": 4
}
