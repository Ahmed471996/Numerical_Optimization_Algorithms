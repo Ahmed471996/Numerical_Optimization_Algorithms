{
  "nbformat": 4,
  "nbformat_minor": 0,
  "metadata": {
    "colab": {
      "name": "Final Exam BFGS for Single Variable Linear Regression (BFGS and GD Final Battle).ipynb",
      "provenance": [],
      "collapsed_sections": []
    },
    "kernelspec": {
      "name": "python3",
      "display_name": "Python 3"
    },
    "language_info": {
      "name": "python"
    }
  },
  "cells": [
    {
      "cell_type": "markdown",
      "source": [
        "# **GD**"
      ],
      "metadata": {
        "id": "K7j_wai3I4Qw"
      }
    },
    {
      "cell_type": "markdown",
      "source": [
        "### Import numpy, matplotlib.pyplot and make it inline"
      ],
      "metadata": {
        "id": "NcQx5ae8LcjY"
      }
    },
    {
      "cell_type": "code",
      "execution_count": 226,
      "metadata": {
        "id": "dlt2mydFIqbm"
      },
      "outputs": [],
      "source": [
        "import numpy as np\n",
        "import matplotlib.pyplot as plt"
      ]
    },
    {
      "cell_type": "markdown",
      "source": [
        "### Read RegData csv file into numpy array (check your data)"
      ],
      "metadata": {
        "id": "8uvwlzj8LiaJ"
      }
    },
    {
      "cell_type": "code",
      "source": [
        "my_data = np.genfromtxt('/content/sample_data/RegData.csv', delimiter=',')"
      ],
      "metadata": {
        "id": "BzldgyPfJEtp"
      },
      "execution_count": 227,
      "outputs": []
    },
    {
      "cell_type": "markdown",
      "source": [
        "### Explore your data"
      ],
      "metadata": {
        "id": "-i5j2naFL9DZ"
      }
    },
    {
      "cell_type": "code",
      "source": [
        "print(my_data)\n",
        "print(my_data.shape)"
      ],
      "metadata": {
        "colab": {
          "base_uri": "https://localhost:8080/"
        },
        "id": "8nEhabN9JEwJ",
        "outputId": "a0c39030-ff3d-43c5-fc1a-c72ecfc01717"
      },
      "execution_count": 228,
      "outputs": [
        {
          "output_type": "stream",
          "name": "stdout",
          "text": [
            "[[2.9000001  4.        ]\n",
            " [6.69999981 7.4000001 ]\n",
            " [4.9000001  5.        ]\n",
            " [7.9000001  7.19999981]\n",
            " [9.80000019 7.9000001 ]\n",
            " [6.9000001  6.0999999 ]\n",
            " [6.0999999  6.        ]\n",
            " [6.19999981 5.80000019]\n",
            " [6.         5.19999981]\n",
            " [5.0999999  4.19999981]\n",
            " [4.69999981 4.        ]\n",
            " [4.4000001  4.4000001 ]\n",
            " [5.80000019 5.19999981]]\n",
            "(13, 2)\n"
          ]
        }
      ]
    },
    {
      "cell_type": "markdown",
      "source": [
        "### Define variables X and y. Assign first column data to X and second column to y\n",
        "### Note: X is the independent variable (input to LR model) and y is the dependent variable (output)"
      ],
      "metadata": {
        "id": "-FRfUg7JL_aY"
      }
    },
    {
      "cell_type": "code",
      "source": [
        "y = my_data[:,1].reshape((13,1))\n",
        "x = my_data[:,0].reshape((13,1))\n",
        "print(y)\n",
        "print(y.shape)\n",
        "print(x)\n",
        "print(x.shape)"
      ],
      "metadata": {
        "colab": {
          "base_uri": "https://localhost:8080/"
        },
        "id": "B1jMJE7KJEyo",
        "outputId": "10272449-9c86-4871-f222-42f87421272d"
      },
      "execution_count": 229,
      "outputs": [
        {
          "output_type": "stream",
          "name": "stdout",
          "text": [
            "[[4.        ]\n",
            " [7.4000001 ]\n",
            " [5.        ]\n",
            " [7.19999981]\n",
            " [7.9000001 ]\n",
            " [6.0999999 ]\n",
            " [6.        ]\n",
            " [5.80000019]\n",
            " [5.19999981]\n",
            " [4.19999981]\n",
            " [4.        ]\n",
            " [4.4000001 ]\n",
            " [5.19999981]]\n",
            "(13, 1)\n",
            "[[2.9000001 ]\n",
            " [6.69999981]\n",
            " [4.9000001 ]\n",
            " [7.9000001 ]\n",
            " [9.80000019]\n",
            " [6.9000001 ]\n",
            " [6.0999999 ]\n",
            " [6.19999981]\n",
            " [6.        ]\n",
            " [5.0999999 ]\n",
            " [4.69999981]\n",
            " [4.4000001 ]\n",
            " [5.80000019]]\n",
            "(13, 1)\n"
          ]
        }
      ]
    },
    {
      "cell_type": "code",
      "source": [
        "_ = plt.scatter(x,y)\n",
        "_ = plt.xlabel('x values')\n",
        "_ = plt.ylabel('y values')"
      ],
      "metadata": {
        "colab": {
          "base_uri": "https://localhost:8080/",
          "height": 279
        },
        "id": "MhmWA2TSJE1K",
        "outputId": "c54cb3fc-a04f-4c5c-b240-5948911cfb4a"
      },
      "execution_count": 230,
      "outputs": [
        {
          "output_type": "display_data",
          "data": {
            "text/plain": [
              "<Figure size 432x288 with 1 Axes>"
            ],
            "image/png": "[encoded data removed]"
          },
          "metadata": {
            "needs_background": "light"
          }
        }
      ]
    },
    {
      "cell_type": "code",
      "source": [
        "x = np.concatenate((np.ones((x.shape[0],1)),x),axis=1)\n",
        "print(x)\n",
        "print(x.shape)"
      ],
      "metadata": {
        "colab": {
          "base_uri": "https://localhost:8080/"
        },
        "id": "vjEG7ex1JE3w",
        "outputId": "7cf1bf78-2abc-40ea-b328-44373aa1ae5c"
      },
      "execution_count": 231,
      "outputs": [
        {
          "output_type": "stream",
          "name": "stdout",
          "text": [
            "[[1.         2.9000001 ]\n",
            " [1.         6.69999981]\n",
            " [1.         4.9000001 ]\n",
            " [1.         7.9000001 ]\n",
            " [1.         9.80000019]\n",
            " [1.         6.9000001 ]\n",
            " [1.         6.0999999 ]\n",
            " [1.         6.19999981]\n",
            " [1.         6.        ]\n",
            " [1.         5.0999999 ]\n",
            " [1.         4.69999981]\n",
            " [1.         4.4000001 ]\n",
            " [1.         5.80000019]]\n",
            "(13, 2)\n"
          ]
        }
      ]
    },
    {
      "cell_type": "code",
      "source": [
        "#inializing theta\n",
        "theta = np.zeros((1,x.shape[1]))\n",
        "print(theta)\n",
        "print(theta.shape)"
      ],
      "metadata": {
        "colab": {
          "base_uri": "https://localhost:8080/"
        },
        "id": "j-bTrOcpJE6Y",
        "outputId": "ce2b4859-3975-4fff-9bc0-f3c30dfd880e"
      },
      "execution_count": 232,
      "outputs": [
        {
          "output_type": "stream",
          "name": "stdout",
          "text": [
            "[[0. 0.]]\n",
            "(1, 2)\n"
          ]
        }
      ]
    },
    {
      "cell_type": "code",
      "source": [
        "# cost function\n",
        "def cost(x, y, theta):\n",
        "    # x(13,2) . theta(1,2) = h(13,1)\n",
        "    h_x = x @ theta.T\n",
        "    error = ((h_x - y).T @ (h_x - y))/2*x.shape[0]\n",
        "    return error[0,0]"
      ],
      "metadata": {
        "id": "OEz0c9meJE89"
      },
      "execution_count": 233,
      "outputs": []
    },
    {
      "cell_type": "code",
      "source": [
        "def grad (x, y, theta):\n",
        "    # x(13,2) . theta(1,2) = h(13,1)\n",
        "    h_x = x @ theta.T\n",
        "    # x(13,2) - h(13,1) = g(13,1)\n",
        "    grad = x.T @ (h_x - y) / x.shape[0]\n",
        "    return grad.T"
      ],
      "metadata": {
        "id": "K8hz1e37JE_Y"
      },
      "execution_count": 234,
      "outputs": []
    },
    {
      "cell_type": "code",
      "source": [
        "def BGD (x, y, theta_min, it, alpha):\n",
        "    thetas = [theta_min]            # a list of thetas (list of arrays (1,2))\n",
        "    error = [cost(x, y, theta_min)]  # a list of output of cost function (list of values)\n",
        "    for i in range(it):\n",
        "        if (i > 0 and abs(error[-1]- error[-2])<= 1e-10):\n",
        "            print(f\"converges after {i} iterations\")\n",
        "            break\n",
        "        theta_min = theta_min - alpha * grad(x, y, theta_min)\n",
        "        error.append(cost(x, y, theta_min))\n",
        "        thetas.append(theta_min)\n",
        "    return thetas, theta_min, error"
      ],
      "metadata": {
        "id": "ODGd39EIMZdw"
      },
      "execution_count": 235,
      "outputs": []
    },
    {
      "cell_type": "code",
      "source": [
        "it = 100000\n",
        "alpha = 0.000001\n",
        "thetas, theta_min, err= BGD (x, y, theta, it, alpha) \n",
        "print(theta_min)\n",
        "print(len(err))\n",
        "print(len(thetas))"
      ],
      "metadata": {
        "colab": {
          "base_uri": "https://localhost:8080/"
        },
        "id": "CUJmAGv4MZgP",
        "outputId": "c5534311-51cb-4c37-a6fd-34ee0fe6fa4e"
      },
      "execution_count": 242,
      "outputs": [
        {
          "output_type": "stream",
          "name": "stdout",
          "text": [
            "[[0.14630432 0.87738596]]\n",
            "100001\n",
            "100001\n"
          ]
        }
      ]
    },
    {
      "cell_type": "code",
      "source": [
        "print(np.array(thetas).shape)\n",
        "print(np.squeeze(np.array(thetas)).shape)\n",
        "# theta0 , theta1\n",
        "print(np.squeeze(np.array(thetas)))"
      ],
      "metadata": {
        "colab": {
          "base_uri": "https://localhost:8080/"
        },
        "id": "ElXjEbAcMZi3",
        "outputId": "103cf692-5538-4948-d120-73d603e410dc"
      },
      "execution_count": 243,
      "outputs": [
        {
          "output_type": "stream",
          "name": "stdout",
          "text": [
            "(100001, 1, 2)\n",
            "(100001, 2)\n",
            "[[0.00000000e+00 0.00000000e+00]\n",
            " [5.56923074e-06 3.50438460e-05]\n",
            " [1.11382473e-05 7.00863215e-05]\n",
            " ...\n",
            " [1.46303920e-01 8.77384585e-01]\n",
            " [1.46304119e-01 8.77385274e-01]\n",
            " [1.46304318e-01 8.77385963e-01]]\n"
          ]
        }
      ]
    },
    {
      "cell_type": "code",
      "source": [
        "plt.plot(range(len(err)),err)  #range(len(cost)) is the number of iterations "
      ],
      "metadata": {
        "colab": {
          "base_uri": "https://localhost:8080/",
          "height": 282
        },
        "id": "PD23QbQjMZlh",
        "outputId": "736885cd-6672-4494-972a-4073667208c9"
      },
      "execution_count": 244,
      "outputs": [
        {
          "output_type": "execute_result",
          "data": {
            "text/plain": [
              "[<matplotlib.lines.Line2D at 0x7fcc550bb350>]"
            ]
          },
          "metadata": {},
          "execution_count": 244
        },
        {
          "output_type": "display_data",
          "data": {
            "text/plain": [
              "<Figure size 432x288 with 1 Axes>"
            ],
            "image/png": "[encoded data removed]"
          },
          "metadata": {
            "needs_background": "light"
          }
        }
      ]
    },
    {
      "cell_type": "code",
      "source": [
        "f = x @ theta_min.T\n",
        "print(np.concatenate((f,y),axis=1))"
      ],
      "metadata": {
        "colab": {
          "base_uri": "https://localhost:8080/"
        },
        "id": "xm7JJYFkM4dI",
        "outputId": "39685645-7c6b-46bb-ed52-16ed2d11d8d9"
      },
      "execution_count": 245,
      "outputs": [
        {
          "output_type": "stream",
          "name": "stdout",
          "text": [
            "[[2.69072369 4.        ]\n",
            " [6.0247901  7.4000001 ]\n",
            " [4.44549562 5.        ]\n",
            " [7.07765351 7.19999981]\n",
            " [8.74468692 7.9000001 ]\n",
            " [6.20026755 6.0999999 ]\n",
            " [5.49835861 6.        ]\n",
            " [5.58609712 5.80000019]\n",
            " [5.4106201  5.19999981]\n",
            " [4.62097265 4.19999981]\n",
            " [4.27001818 4.        ]\n",
            " [4.00680264 4.4000001 ]\n",
            " [5.23514307 5.19999981]]\n"
          ]
        }
      ]
    },
    {
      "cell_type": "code",
      "source": [
        "_ = plt.scatter(x[:,1],y)\n",
        "_ = plt.xlabel('x values')\n",
        "_ = plt.ylabel('y values')\n",
        "_ = plt.plot(x[:,1],f)"
      ],
      "metadata": {
        "colab": {
          "base_uri": "https://localhost:8080/",
          "height": 282
        },
        "id": "QDlq6K10M4fp",
        "outputId": "a3ec3b22-57a3-4cbc-cb4f-f5bccfc3fe37"
      },
      "execution_count": 246,
      "outputs": [
        {
          "output_type": "display_data",
          "data": {
            "text/plain": [
              "<Figure size 432x288 with 1 Axes>"
            ],
            "image/png": "[encoded data removed]"
          },
          "metadata": {
            "needs_background": "light"
          }
        }
      ]
    },
    {
      "cell_type": "code",
      "source": [
        "thetas = np.squeeze(np.array(thetas))\n",
        "plt.plot(range(len(err)),thetas[:,0])\n",
        "_ = plt.xlabel('iterations')\n",
        "_ = plt.ylabel('theta_0')"
      ],
      "metadata": {
        "colab": {
          "base_uri": "https://localhost:8080/",
          "height": 279
        },
        "id": "zSHMCwK7M4iA",
        "outputId": "25b1508e-59c6-4121-d35c-9bd6c1e88f62"
      },
      "execution_count": 247,
      "outputs": [
        {
          "output_type": "display_data",
          "data": {
            "text/plain": [
              "<Figure size 432x288 with 1 Axes>"
            ],
            "image/png": "[encoded data removed]"
          },
          "metadata": {
            "needs_background": "light"
          }
        }
      ]
    },
    {
      "cell_type": "code",
      "source": [
        "thetas = np.squeeze(np.array(thetas))\n",
        "plt.plot(range(len(err)),thetas[:,1])\n",
        "_ = plt.xlabel('iterations')\n",
        "_ = plt.ylabel('theta_1')"
      ],
      "metadata": {
        "colab": {
          "base_uri": "https://localhost:8080/",
          "height": 279
        },
        "id": "pt6J7I-yM4ka",
        "outputId": "be7d957e-685b-428a-b49d-06701fd9f301"
      },
      "execution_count": 248,
      "outputs": [
        {
          "output_type": "display_data",
          "data": {
            "text/plain": [
              "<Figure size 432x288 with 1 Axes>"
            ],
            "image/png": "[encoded data removed]"
          },
          "metadata": {
            "needs_background": "light"
          }
        }
      ]
    },
    {
      "cell_type": "code",
      "source": [
        "from sklearn.metrics import r2_score\n",
        "# print(theta.T)\n",
        "# print(x)\n",
        "f = x @ theta_min.T\n",
        "print(r2_score(y , f))\n",
        "# print(y)\n",
        "# print(f)"
      ],
      "metadata": {
        "colab": {
          "base_uri": "https://localhost:8080/"
        },
        "id": "7leWot2JM9so",
        "outputId": "0ba7325e-7646-4202-fd9e-5ff8486367a6"
      },
      "execution_count": 249,
      "outputs": [
        {
          "output_type": "stream",
          "name": "stdout",
          "text": [
            "0.7395210908455189\n"
          ]
        }
      ]
    },
    {
      "cell_type": "markdown",
      "source": [
        "# **BFGS**"
      ],
      "metadata": {
        "id": "0ZNeTHFeJBpQ"
      }
    },
    {
      "cell_type": "code",
      "source": [
        "#inializing theta\n",
        "theta = np.zeros((2,1))\n",
        "print(theta)\n",
        "print(theta.shape)"
      ],
      "metadata": {
        "colab": {
          "base_uri": "https://localhost:8080/"
        },
        "id": "jueg-M5QOXQc",
        "outputId": "8ada37c0-9800-4ee7-8436-42e8efbb8f21"
      },
      "execution_count": 251,
      "outputs": [
        {
          "output_type": "stream",
          "name": "stdout",
          "text": [
            "[[0.]\n",
            " [0.]]\n",
            "(2, 1)\n"
          ]
        }
      ]
    },
    {
      "cell_type": "code",
      "source": [
        "len(theta)"
      ],
      "metadata": {
        "colab": {
          "base_uri": "https://localhost:8080/"
        },
        "id": "2qNolHrkuIi5",
        "outputId": "2b22b277-9fba-4732-be74-dac383ff10ed"
      },
      "execution_count": 252,
      "outputs": [
        {
          "output_type": "execute_result",
          "data": {
            "text/plain": [
              "2"
            ]
          },
          "metadata": {},
          "execution_count": 252
        }
      ]
    },
    {
      "cell_type": "code",
      "source": [
        "np.eye(2) "
      ],
      "metadata": {
        "colab": {
          "base_uri": "https://localhost:8080/"
        },
        "id": "cXPWDXF8uTNh",
        "outputId": "4f037cd6-f4aa-4adb-d44e-c2b71a40a6b8"
      },
      "execution_count": 253,
      "outputs": [
        {
          "output_type": "execute_result",
          "data": {
            "text/plain": [
              "array([[1., 0.],\n",
              "       [0., 1.]])"
            ]
          },
          "metadata": {},
          "execution_count": 253
        }
      ]
    },
    {
      "cell_type": "code",
      "source": [
        "I = np.ones((13, 1))\n",
        "I"
      ],
      "metadata": {
        "colab": {
          "base_uri": "https://localhost:8080/"
        },
        "id": "2sqMu4cC0MX0",
        "outputId": "374ff495-5e00-4f09-e9b9-b9d58994a26e"
      },
      "execution_count": 254,
      "outputs": [
        {
          "output_type": "execute_result",
          "data": {
            "text/plain": [
              "array([[1.],\n",
              "       [1.],\n",
              "       [1.],\n",
              "       [1.],\n",
              "       [1.],\n",
              "       [1.],\n",
              "       [1.],\n",
              "       [1.],\n",
              "       [1.],\n",
              "       [1.],\n",
              "       [1.],\n",
              "       [1.],\n",
              "       [1.]])"
            ]
          },
          "metadata": {},
          "execution_count": 254
        }
      ]
    },
    {
      "cell_type": "code",
      "source": [
        "# cost function\n",
        "def cost(x, y, theta):\n",
        "    # x(13,2) . theta(1,2) = h(13,1)\n",
        "    h_x = x @ theta\n",
        "    error = ((h_x - y).T @ (h_x - y))/2*x.shape[0]\n",
        "    return error[0,0]"
      ],
      "metadata": {
        "id": "Iw6ehsTDJELY"
      },
      "execution_count": 255,
      "outputs": []
    },
    {
      "cell_type": "code",
      "source": [
        "def grad (x, y, theta):\n",
        "    # x(13,2) . theta(1,2) = h(13,1)\n",
        "    h_x = x @ theta\n",
        "    # x(13,2) . h(13,1) = g(2,1)\n",
        "    grad = x.T @ (h_x - y) / x.shape[0]\n",
        "    # g(2,1)\n",
        "    return grad"
      ],
      "metadata": {
        "id": "uZLmLxXdJEN4"
      },
      "execution_count": 256,
      "outputs": []
    },
    {
      "cell_type": "code",
      "source": [
        "#choose the value of a \n",
        "def line_search(y, x, theta_min, pk, grd, max_it):\n",
        "    '''\n",
        "    BACKTRACK LINE SEARCH WITH WOLFE CONDITIONS\n",
        "    values of the parameters are chosen due to the WOLFE condition \n",
        "    in the Numerical Optimization book\n",
        "    '''\n",
        "    #p(2,1) , theta_min(2,1), grd(2,1)\n",
        "    # it = 0\n",
        "    I = np.ones((13, 1))\n",
        "    a = 1\n",
        "    c1 = 1e-4 \n",
        "    c2 = 0.9 \n",
        "    theta_min_new = theta_min + a * pk\n",
        "    f_x_new = x @ theta_min_new\n",
        "    f_x = x @ theta_min\n",
        "    grd_new = grad(x, y, theta_min_new)\n",
        "    # print(h_x_new.shape)\n",
        "    # print(h_x_old.shape)\n",
        "    # print(grd.shape)\n",
        "    # print(p.shape)\n",
        "    # print(((c1 * a * grd @ p) * I).shape)\n",
        "    # print(h_x_new.shape)\n",
        "    # h_x_new(13,1), h_x_old(13,1), (c1 * a * grd @ p) (const) or grd_new(1,2), p(2,1), c2 * grd @ p (const)\n",
        "    while f_x_new.all() <= (f_x + (c1 * a * grd.T @ pk) * I).all() or grd_new.T @ pk >= c2 * grd.T @ pk : \n",
        "        a *= 0.5\n",
        "        theta_min_new = theta_min + a * pk\n",
        "        f_x_new = x @ theta_min_new\n",
        "        f_x = x @ theta_min\n",
        "        grd_new = grad(x, y, theta_min_new)\n",
        "        # it+=1\n",
        "        # if it > max_it: \n",
        "        #     print('Maximum iterations reached!')\n",
        "        #     break\n",
        "    print(a)\n",
        "    return a"
      ],
      "metadata": {
        "id": "pT5QsnEGJEQQ"
      },
      "execution_count": 257,
      "outputs": []
    },
    {
      "cell_type": "code",
      "source": [
        "def BFGS(x, y, theta_min, max_it):\n",
        "    '''\n",
        "    DESCRIPTION\n",
        "    BFGS Quasi-Newton Method, implemented as described in Nocedal:\n",
        "    Numerical Optimisation.\n",
        "\n",
        "    INPUTS:\n",
        "    y:           function to be optimised \n",
        "    x0:          intial guess\n",
        "    max_it:      maximum iterations \n",
        "    theta_min:   the initial value of theta\n",
        "\n",
        "    OUTPUTS: \n",
        "    thetas:      the history of thetas\n",
        "    theta_min:   the optimal solution of the function y\n",
        "    error:       the history of the error\n",
        "    '''\n",
        "    thetas = [theta_min]\n",
        "    error = [cost(x, y, theta_min)]\n",
        "    #theta_min(2,1)\n",
        "    d = len(theta_min)                   # dimension of input\n",
        "    grd = grad(x, y, theta_min)          # initial gradient \n",
        "    H = np.eye(d)                        # initial hessian\n",
        "    it = 2 \n",
        "\n",
        "    while np.linalg.norm(grd) > 1e-5:    # while gradient is positive\n",
        "        if it > max_it: \n",
        "            print('Maximum iterations reached!')\n",
        "            break\n",
        "        it += 1\n",
        "        #p(2,1) = H(2,2) . grd(2,1)\n",
        "        pk = -H @ grd                                  # search direction (Newton Method) (the minimizer)\n",
        "\n",
        "        #p(2,1) , theta_min(2,1), grd(2,1)\n",
        "        # a = line_search(y, x, theta_min, pk, grd, max_it)      # line search (step length)\n",
        "\n",
        "        # This iteration is quite\n",
        "        # similar to the line searchNewton method; the key difference is that the approximateHessian\n",
        "        # Bk is used in place of the true Hessian.\n",
        "        theta_min = theta_min + .5**4 * pk\n",
        "\n",
        "        # theta_min = theta_min + pk\n",
        "        thetas.append(theta_min)\n",
        "        error.append(cost(x, y, theta_min))\n",
        "        \n",
        "        # Instead of computing Bk afresh at every iteration, Davidon proposed to update it in a\n",
        "        # simple manner to account for the curvature measured during the most recent step. Suppose\n",
        "        # that we have generated a new iterate xk+1 and wish to construct a new quadratic model, of the form\n",
        "        # mk+1(p) = fk+1 + deltafTk+1 * p + 1/2 * pT * Bk+1 * p.                     \n",
        "        grd_new = grad(x, y, theta_min)\n",
        "\n",
        "        # yk(2,1)\n",
        "        yk = grd_new - grd\n",
        "        # sk(2,1)\n",
        "        sk = thetas[-1] - thetas[-2]\n",
        "\n",
        "        rk = 1 / (yk.T @ sk)\n",
        "\n",
        "        # the DFP updating formula Hk = Bk-1 \n",
        "        # (2,2) @ (2,2) @ (2,2)\n",
        "        H = (np.eye(d)-(rk * (sk @ yk.T))) @ H @ (np.eye(d)-(rk * (yk @ sk.T))) + (rk * (sk @ sk.T))\n",
        "        \n",
        "        grd = grd_new[:]\n",
        "        \n",
        "        #stopping condition\n",
        "        if (it > 0 and abs(error[-1]- error[-2]) <= 1e-10):\n",
        "            print(f\"converges after {it} iterations\")\n",
        "            break\n",
        "    return thetas, theta_min, error"
      ],
      "metadata": {
        "id": "n8lseBzjJES5"
      },
      "execution_count": 258,
      "outputs": []
    },
    {
      "cell_type": "code",
      "source": [
        "it = 100\n",
        "thetas, theta_min, err = BFGS(x, y, theta, it)\n",
        "print(theta_min)\n",
        "print(len(err))\n",
        "print(len(thetas))"
      ],
      "metadata": {
        "colab": {
          "base_uri": "https://localhost:8080/"
        },
        "id": "R6-z2bdmJEVo",
        "outputId": "2b55015a-8b71-4941-af30-f314c956a3a1"
      },
      "execution_count": 259,
      "outputs": [
        {
          "output_type": "stream",
          "name": "stdout",
          "text": [
            "Maximum iterations reached!\n",
            "[[1.4222813]\n",
            " [0.6987106]]\n",
            "100\n",
            "100\n"
          ]
        }
      ]
    },
    {
      "cell_type": "code",
      "source": [
        "print(np.array(thetas).shape)\n",
        "print(np.squeeze(np.array(thetas)).shape)\n",
        "# theta0 , theta1\n",
        "print(np.squeeze(np.array(thetas)))"
      ],
      "metadata": {
        "colab": {
          "base_uri": "https://localhost:8080/"
        },
        "id": "swd2Wh5UJEYY",
        "outputId": "1522ea62-fb50-4b97-b28e-ed8843e25666"
      },
      "execution_count": 260,
      "outputs": [
        {
          "output_type": "stream",
          "name": "stdout",
          "text": [
            "(100, 2, 1)\n",
            "(100, 2)\n",
            "[[0.         0.        ]\n",
            " [0.34807692 2.19024038]\n",
            " [0.34083192 2.10849999]\n",
            " [0.33925632 2.03104422]\n",
            " [0.34263464 1.95766299]\n",
            " [0.35032101 1.88815536]\n",
            " [0.36173314 1.82232917]\n",
            " [0.37634673 1.76000078]\n",
            " [0.39369037 1.7009948 ]\n",
            " [0.41334085 1.64514375]\n",
            " [0.43491886 1.59228783]\n",
            " [0.45808505 1.5422746 ]\n",
            " [0.4825364  1.49495872]\n",
            " [0.50800293 1.45020168]\n",
            " [0.53424466 1.4078715 ]\n",
            " [0.56104879 1.36784251]\n",
            " [0.58822724 1.32999506]\n",
            " [0.61561423 1.2942153 ]\n",
            " [0.64306424 1.2603949 ]\n",
            " [0.67045    1.22843085]\n",
            " [0.69766074 1.19822521]\n",
            " [0.72460058 1.16968489]\n",
            " [0.75118703 1.14272144]\n",
            " [0.77734965 1.11725086]\n",
            " [0.80302883 1.09319335]\n",
            " [0.82817464 1.07047316]\n",
            " [0.85274586 1.04901841]\n",
            " [0.87670899 1.02876087]\n",
            " [0.90003748 1.00963581]\n",
            " [0.92271089 0.99158186]\n",
            " [0.94471424 0.97454081]\n",
            " [0.96603738 0.95845746]\n",
            " [0.98667442 0.94327953]\n",
            " [1.00662317 0.92895743]\n",
            " [1.02588474 0.91544421]\n",
            " [1.04446307 0.90269538]\n",
            " [1.06236458 0.89066881]\n",
            " [1.07959779 0.87932461]\n",
            " [1.09617307 0.868625  ]\n",
            " [1.11210229 0.85853423]\n",
            " [1.12739865 0.84901846]\n",
            " [1.14207639 0.84004568]\n",
            " [1.15615064 0.83158559]\n",
            " [1.16963721 0.82360954]\n",
            " [1.18255246 0.81609042]\n",
            " [1.19491314 0.80900261]\n",
            " [1.20673627 0.80232186]\n",
            " [1.21803904 0.79602526]\n",
            " [1.22883872 0.79009117]\n",
            " [1.23915255 0.7844991 ]\n",
            " [1.24899768 0.77922971]\n",
            " [1.25839112 0.77426473]\n",
            " [1.26734968 0.76958689]\n",
            " [1.27588989 0.76517987]\n",
            " [1.28402801 0.76102826]\n",
            " [1.29177998 0.75711752]\n",
            " [1.29916136 0.75343389]\n",
            " [1.30618736 0.74996441]\n",
            " [1.31287278 0.74669682]\n",
            " [1.31923203 0.74361956]\n",
            " [1.32527907 0.74072172]\n",
            " [1.33102745 0.73799298]\n",
            " [1.33649031 0.73542363]\n",
            " [1.34168033 0.73300449]\n",
            " [1.34660976 0.7307269 ]\n",
            " [1.35129043 0.7285827 ]\n",
            " [1.35573374 0.72656419]\n",
            " [1.35995066 0.72466408]\n",
            " [1.36395175 0.72287554]\n",
            " [1.36774716 0.72119209]\n",
            " [1.37134664 0.71960764]\n",
            " [1.37475955 0.71811643]\n",
            " [1.37799486 0.71671305]\n",
            " [1.38106117 0.71539239]\n",
            " [1.38396672 0.71414963]\n",
            " [1.38671939 0.71298023]\n",
            " [1.38932674 0.71187991]\n",
            " [1.39179597 0.71084462]\n",
            " [1.39413397 0.70987058]\n",
            " [1.39634733 0.7089542 ]\n",
            " [1.39844234 0.70809209]\n",
            " [1.40042499 0.70728109]\n",
            " [1.402301   0.70651819]\n",
            " [1.40407584 0.70580056]\n",
            " [1.40575469 0.70512556]\n",
            " [1.40734251 0.70449066]\n",
            " [1.40884402 0.70389351]\n",
            " [1.4102637  0.7033319 ]\n",
            " [1.41160583 0.70280371]\n",
            " [1.41287447 0.70230699]\n",
            " [1.41407349 0.70183987]\n",
            " [1.41520656 0.70140061]\n",
            " [1.41627717 0.70098755]\n",
            " [1.41728864 0.70059916]\n",
            " [1.41824412 0.70023396]\n",
            " [1.41914661 0.69989059]\n",
            " [1.41999894 0.69956775]\n",
            " [1.42080381 0.69926423]\n",
            " [1.42156379 0.69897887]\n",
            " [1.4222813  0.6987106 ]]\n"
          ]
        }
      ]
    },
    {
      "cell_type": "code",
      "source": [
        "plt.plot(range(len(err)),err)  #range(len(cost)) is the number of iterations "
      ],
      "metadata": {
        "colab": {
          "base_uri": "https://localhost:8080/",
          "height": 282
        },
        "id": "nJ2cThk8NuuZ",
        "outputId": "82a4de20-1c32-45a3-e698-d9f75c649e22"
      },
      "execution_count": 261,
      "outputs": [
        {
          "output_type": "execute_result",
          "data": {
            "text/plain": [
              "[<matplotlib.lines.Line2D at 0x7fcc55456250>]"
            ]
          },
          "metadata": {},
          "execution_count": 261
        },
        {
          "output_type": "display_data",
          "data": {
            "text/plain": [
              "<Figure size 432x288 with 1 Axes>"
            ],
            "image/png": "[encoded data removed]"
          },
          "metadata": {
            "needs_background": "light"
          }
        }
      ]
    },
    {
      "cell_type": "code",
      "source": [
        "f = x @ theta_min\n",
        "print(np.concatenate((f,y),axis=1))"
      ],
      "metadata": {
        "colab": {
          "base_uri": "https://localhost:8080/"
        },
        "id": "ZpAt9-49Nuw2",
        "outputId": "383ac2af-170f-4b92-d380-9af1af7b2ad1"
      },
      "execution_count": 262,
      "outputs": [
        {
          "output_type": "stream",
          "name": "stdout",
          "text": [
            "[[3.44854211 4.        ]\n",
            " [6.10364221 7.4000001 ]\n",
            " [4.84596332 5.        ]\n",
            " [6.94209513 7.19999981]\n",
            " [8.26964535 7.9000001 ]\n",
            " [6.24338453 6.0999999 ]\n",
            " [5.68441591 6.        ]\n",
            " [5.75428691 5.80000019]\n",
            " [5.61454492 5.19999981]\n",
            " [4.98570531 4.19999981]\n",
            " [4.706221   4.        ]\n",
            " [4.49660802 4.4000001 ]\n",
            " [5.47480293 5.19999981]]\n"
          ]
        }
      ]
    },
    {
      "cell_type": "code",
      "source": [
        "_ = plt.scatter(x[:,1],y)\n",
        "_ = plt.xlabel('x values')\n",
        "_ = plt.ylabel('y values')\n",
        "_ = plt.plot(x[:,1],f)"
      ],
      "metadata": {
        "colab": {
          "base_uri": "https://localhost:8080/",
          "height": 279
        },
        "id": "L7INYTlzNuzR",
        "outputId": "db891d70-7c48-481b-8e07-ed0964b63593"
      },
      "execution_count": 263,
      "outputs": [
        {
          "output_type": "display_data",
          "data": {
            "text/plain": [
              "<Figure size 432x288 with 1 Axes>"
            ],
            "image/png": "[encoded data removed]"
          },
          "metadata": {
            "needs_background": "light"
          }
        }
      ]
    },
    {
      "cell_type": "code",
      "source": [
        "thetas = np.squeeze(np.array(thetas))\n",
        "plt.plot(range(len(err)),thetas[:,0])\n",
        "_ = plt.xlabel('iterations')\n",
        "_ = plt.ylabel('theta_0')"
      ],
      "metadata": {
        "colab": {
          "base_uri": "https://localhost:8080/",
          "height": 279
        },
        "id": "ckSqfeI_Nu2M",
        "outputId": "e3a274ca-5b31-411d-ea5d-fe59bcca4cea"
      },
      "execution_count": 264,
      "outputs": [
        {
          "output_type": "display_data",
          "data": {
            "text/plain": [
              "<Figure size 432x288 with 1 Axes>"
            ],
            "image/png": "[encoded data removed]"
          },
          "metadata": {
            "needs_background": "light"
          }
        }
      ]
    },
    {
      "cell_type": "code",
      "source": [
        "thetas = np.squeeze(np.array(thetas))\n",
        "plt.plot(range(len(err)),thetas[:,1])\n",
        "_ = plt.xlabel('iterations')\n",
        "_ = plt.ylabel('theta_1')"
      ],
      "metadata": {
        "colab": {
          "base_uri": "https://localhost:8080/",
          "height": 279
        },
        "id": "7ztCIOT0Nu44",
        "outputId": "7e93a73f-8d3f-4aa9-841b-d6f007c8a5d3"
      },
      "execution_count": 265,
      "outputs": [
        {
          "output_type": "display_data",
          "data": {
            "text/plain": [
              "<Figure size 432x288 with 1 Axes>"
            ],
            "image/png": "[encoded data removed]"
          },
          "metadata": {
            "needs_background": "light"
          }
        }
      ]
    },
    {
      "cell_type": "code",
      "source": [
        "from sklearn.metrics import r2_score\n",
        "# print(theta.T)\n",
        "# print(x)\n",
        "f = x @ theta_min\n",
        "print(r2_score(y , f))\n",
        "# print(y)\n",
        "# print(f)"
      ],
      "metadata": {
        "colab": {
          "base_uri": "https://localhost:8080/"
        },
        "id": "Nhd1VoKfJEa6",
        "outputId": "4190da60-7b0b-49e7-bff5-bc6920162bd9"
      },
      "execution_count": 266,
      "outputs": [
        {
          "output_type": "stream",
          "name": "stdout",
          "text": [
            "0.8211788356210399\n"
          ]
        }
      ]
    },
    {
      "cell_type": "markdown",
      "source": [
        "With 100 iteration only we reached 82.11 % acc more than 73.9 % acc with 100000 iteration"
      ],
      "metadata": {
        "id": "hMNp7uQ5dLNl"
      }
    },
    {
      "cell_type": "markdown",
      "source": [
        "# **SKLearn**"
      ],
      "metadata": {
        "id": "ifRx8JIYOx-6"
      }
    },
    {
      "cell_type": "code",
      "source": [
        "import numpy as np\n",
        "from sklearn.linear_model import LinearRegression\n",
        "X = x\n",
        "reg = LinearRegression().fit(X, y)\n",
        "reg.score(X, y)"
      ],
      "metadata": {
        "colab": {
          "base_uri": "https://localhost:8080/"
        },
        "id": "aH-MljkBO2RH",
        "outputId": "37d7c417-e760-430a-c6e0-e012bfdf4426"
      },
      "execution_count": 19,
      "outputs": [
        {
          "output_type": "execute_result",
          "data": {
            "text/plain": [
              "0.8213156778363776"
            ]
          },
          "metadata": {},
          "execution_count": 19
        }
      ]
    }
  ]
}